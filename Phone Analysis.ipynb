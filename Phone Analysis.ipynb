{
 "cells": [
  {
   "cell_type": "markdown",
   "metadata": {},
   "source": [
    "-------------------------------------------------------------------------------------------------------------------------------"
   ]
  },
  {
   "cell_type": "markdown",
   "metadata": {},
   "source": [
    "## Mobile Phone Analysis"
   ]
  },
  {
   "cell_type": "markdown",
   "metadata": {},
   "source": [
    "Flipkart is a famous Indian E-Commerce website, that offers a wide range of products right from clothing to electronics to edibles to home appliances and whatnot. In this notebook, we closely analyze and visualize the details of a specific product sold on Flipkart. A cell phone is also known as a mobile phone or simply a phone has become a necessity than just a luxury. In this era, each and everyone has their mobile phones. Do we sometimes wonder which phone is the best for me? Many of us generally know what we want, so why not help those who don't? To answer the former question we create 2 data models which will be as follows<br><br>\n",
    "<u>Model 1:</u><br>\n",
    "A basic model that predicts the Sales Price of each phone.<br><br>\n",
    "<u>Model 2:</u><br>\n",
    "To answer the above question we will introduce an additional attribute that would denote which phone would be the best fit for an appropriate group and later build a predictive model as well.<br>\n",
    "\n",
    "For this we will observe the following three conditions:<br>\n",
    "<li>A customer with necessities won't buy a high-priced phone\n",
    "<li>Young customers will prefer a higher memory phone.\n",
    "<li>Customer with high ended needs would need a faster phone with good memory<br>\n",
    "\n",
    "The data used in this notebook has been extracted from the Flipkart website by Web Scraping. The following is a GitHub link that will redirect you to the simple web scraping code.<br>\n",
    "<a href=\"https://github.com/ginelledsouza/Web-Scraping\">Web Scraping</a>"
   ]
  },
  {
   "cell_type": "markdown",
   "metadata": {},
   "source": [
    "-------------------------------------------------------------------------------------------------------------------------------"
   ]
  },
  {
   "cell_type": "markdown",
   "metadata": {},
   "source": [
    "## Data Loading"
   ]
  },
  {
   "cell_type": "code",
   "execution_count": 1,
   "metadata": {},
   "outputs": [],
   "source": [
    "import numpy as np\n",
    "import pandas as pd\n",
    "import seaborn as sns\n",
    "import matplotlib.pyplot as plt"
   ]
  },
  {
   "cell_type": "code",
   "execution_count": 2,
   "metadata": {},
   "outputs": [],
   "source": [
    "df = pd.read_csv(\"MobilePhones.csv\")"
   ]
  },
  {
   "cell_type": "code",
   "execution_count": 3,
   "metadata": {},
   "outputs": [
    {
     "data": {
      "text/plain": [
       "120"
      ]
     },
     "execution_count": 3,
     "metadata": {},
     "output_type": "execute_result"
    }
   ],
   "source": [
    "len(df)"
   ]
  },
  {
   "cell_type": "code",
   "execution_count": 4,
   "metadata": {},
   "outputs": [
    {
     "name": "stdout",
     "output_type": "stream",
     "text": [
      "<class 'pandas.core.frame.DataFrame'>\n",
      "RangeIndex: 120 entries, 0 to 119\n",
      "Data columns (total 8 columns):\n",
      "MobileName    120 non-null object\n",
      "RAM_GB        120 non-null int64\n",
      "ROM_GB        120 non-null int64\n",
      "Ratings       120 non-null int64\n",
      "Reviews       120 non-null int64\n",
      "Stars         120 non-null float64\n",
      "ListPrice     120 non-null int64\n",
      "SalesPrice    120 non-null int64\n",
      "dtypes: float64(1), int64(6), object(1)\n",
      "memory usage: 7.6+ KB\n"
     ]
    }
   ],
   "source": [
    "df.info()"
   ]
  },
  {
   "cell_type": "code",
   "execution_count": 5,
   "metadata": {},
   "outputs": [
    {
     "data": {
      "text/html": [
       "<div>\n",
       "<style scoped>\n",
       "    .dataframe tbody tr th:only-of-type {\n",
       "        vertical-align: middle;\n",
       "    }\n",
       "\n",
       "    .dataframe tbody tr th {\n",
       "        vertical-align: top;\n",
       "    }\n",
       "\n",
       "    .dataframe thead th {\n",
       "        text-align: right;\n",
       "    }\n",
       "</style>\n",
       "<table border=\"1\" class=\"dataframe\">\n",
       "  <thead>\n",
       "    <tr style=\"text-align: right;\">\n",
       "      <th></th>\n",
       "      <th>RAM_GB</th>\n",
       "      <th>ROM_GB</th>\n",
       "      <th>Ratings</th>\n",
       "      <th>Reviews</th>\n",
       "      <th>Stars</th>\n",
       "      <th>ListPrice</th>\n",
       "      <th>SalesPrice</th>\n",
       "    </tr>\n",
       "  </thead>\n",
       "  <tbody>\n",
       "    <tr>\n",
       "      <th>count</th>\n",
       "      <td>120.000000</td>\n",
       "      <td>120.000000</td>\n",
       "      <td>120.000000</td>\n",
       "      <td>120.000000</td>\n",
       "      <td>120.000000</td>\n",
       "      <td>120.000000</td>\n",
       "      <td>120.000000</td>\n",
       "    </tr>\n",
       "    <tr>\n",
       "      <th>mean</th>\n",
       "      <td>4.358333</td>\n",
       "      <td>65.233333</td>\n",
       "      <td>57315.425000</td>\n",
       "      <td>4767.250000</td>\n",
       "      <td>4.260000</td>\n",
       "      <td>16277.375000</td>\n",
       "      <td>14686.791667</td>\n",
       "    </tr>\n",
       "    <tr>\n",
       "      <th>std</th>\n",
       "      <td>4.129817</td>\n",
       "      <td>33.777506</td>\n",
       "      <td>136188.054112</td>\n",
       "      <td>10853.881055</td>\n",
       "      <td>0.461528</td>\n",
       "      <td>11525.593599</td>\n",
       "      <td>10591.813483</td>\n",
       "    </tr>\n",
       "    <tr>\n",
       "      <th>min</th>\n",
       "      <td>0.000000</td>\n",
       "      <td>4.000000</td>\n",
       "      <td>53.000000</td>\n",
       "      <td>3.000000</td>\n",
       "      <td>2.800000</td>\n",
       "      <td>609.000000</td>\n",
       "      <td>609.000000</td>\n",
       "    </tr>\n",
       "    <tr>\n",
       "      <th>25%</th>\n",
       "      <td>3.000000</td>\n",
       "      <td>32.000000</td>\n",
       "      <td>5365.000000</td>\n",
       "      <td>394.000000</td>\n",
       "      <td>4.300000</td>\n",
       "      <td>9990.000000</td>\n",
       "      <td>8302.250000</td>\n",
       "    </tr>\n",
       "    <tr>\n",
       "      <th>50%</th>\n",
       "      <td>4.000000</td>\n",
       "      <td>64.000000</td>\n",
       "      <td>15700.500000</td>\n",
       "      <td>1232.000000</td>\n",
       "      <td>4.400000</td>\n",
       "      <td>12994.500000</td>\n",
       "      <td>10999.000000</td>\n",
       "    </tr>\n",
       "    <tr>\n",
       "      <th>75%</th>\n",
       "      <td>4.500000</td>\n",
       "      <td>64.000000</td>\n",
       "      <td>42288.500000</td>\n",
       "      <td>3002.000000</td>\n",
       "      <td>4.500000</td>\n",
       "      <td>18990.000000</td>\n",
       "      <td>16999.000000</td>\n",
       "    </tr>\n",
       "    <tr>\n",
       "      <th>max</th>\n",
       "      <td>32.000000</td>\n",
       "      <td>128.000000</td>\n",
       "      <td>805006.000000</td>\n",
       "      <td>66292.000000</td>\n",
       "      <td>4.600000</td>\n",
       "      <td>57800.000000</td>\n",
       "      <td>52999.000000</td>\n",
       "    </tr>\n",
       "  </tbody>\n",
       "</table>\n",
       "</div>"
      ],
      "text/plain": [
       "           RAM_GB      ROM_GB        Ratings       Reviews       Stars  \\\n",
       "count  120.000000  120.000000     120.000000    120.000000  120.000000   \n",
       "mean     4.358333   65.233333   57315.425000   4767.250000    4.260000   \n",
       "std      4.129817   33.777506  136188.054112  10853.881055    0.461528   \n",
       "min      0.000000    4.000000      53.000000      3.000000    2.800000   \n",
       "25%      3.000000   32.000000    5365.000000    394.000000    4.300000   \n",
       "50%      4.000000   64.000000   15700.500000   1232.000000    4.400000   \n",
       "75%      4.500000   64.000000   42288.500000   3002.000000    4.500000   \n",
       "max     32.000000  128.000000  805006.000000  66292.000000    4.600000   \n",
       "\n",
       "          ListPrice    SalesPrice  \n",
       "count    120.000000    120.000000  \n",
       "mean   16277.375000  14686.791667  \n",
       "std    11525.593599  10591.813483  \n",
       "min      609.000000    609.000000  \n",
       "25%     9990.000000   8302.250000  \n",
       "50%    12994.500000  10999.000000  \n",
       "75%    18990.000000  16999.000000  \n",
       "max    57800.000000  52999.000000  "
      ]
     },
     "execution_count": 5,
     "metadata": {},
     "output_type": "execute_result"
    }
   ],
   "source": [
    "df.describe()"
   ]
  },
  {
   "cell_type": "markdown",
   "metadata": {},
   "source": [
    "-------------------------------------------------------------------------------------------------------------------------------"
   ]
  },
  {
   "cell_type": "markdown",
   "metadata": {},
   "source": [
    "## Data Manipulation"
   ]
  },
  {
   "cell_type": "code",
   "execution_count": 6,
   "metadata": {},
   "outputs": [
    {
     "data": {
      "text/html": [
       "<div>\n",
       "<style scoped>\n",
       "    .dataframe tbody tr th:only-of-type {\n",
       "        vertical-align: middle;\n",
       "    }\n",
       "\n",
       "    .dataframe tbody tr th {\n",
       "        vertical-align: top;\n",
       "    }\n",
       "\n",
       "    .dataframe thead th {\n",
       "        text-align: right;\n",
       "    }\n",
       "</style>\n",
       "<table border=\"1\" class=\"dataframe\">\n",
       "  <thead>\n",
       "    <tr style=\"text-align: right;\">\n",
       "      <th></th>\n",
       "      <th>MobileName</th>\n",
       "      <th>RAM_GB</th>\n",
       "      <th>ROM_GB</th>\n",
       "      <th>Ratings</th>\n",
       "      <th>Reviews</th>\n",
       "      <th>Stars</th>\n",
       "      <th>ListPrice</th>\n",
       "      <th>SalesPrice</th>\n",
       "    </tr>\n",
       "  </thead>\n",
       "  <tbody>\n",
       "    <tr>\n",
       "      <th>0</th>\n",
       "      <td>Redmi 8 (Onyx Black, 64 GB)</td>\n",
       "      <td>4</td>\n",
       "      <td>64</td>\n",
       "      <td>674638</td>\n",
       "      <td>50064</td>\n",
       "      <td>4.4</td>\n",
       "      <td>10999</td>\n",
       "      <td>9999</td>\n",
       "    </tr>\n",
       "    <tr>\n",
       "      <th>1</th>\n",
       "      <td>Realme 5i (Forest Green, 64 GB)</td>\n",
       "      <td>4</td>\n",
       "      <td>64</td>\n",
       "      <td>243106</td>\n",
       "      <td>16497</td>\n",
       "      <td>4.5</td>\n",
       "      <td>10999</td>\n",
       "      <td>10999</td>\n",
       "    </tr>\n",
       "    <tr>\n",
       "      <th>2</th>\n",
       "      <td>Realme 5i (Aqua Blue, 64 GB)</td>\n",
       "      <td>4</td>\n",
       "      <td>64</td>\n",
       "      <td>243106</td>\n",
       "      <td>16497</td>\n",
       "      <td>4.5</td>\n",
       "      <td>10999</td>\n",
       "      <td>10999</td>\n",
       "    </tr>\n",
       "    <tr>\n",
       "      <th>3</th>\n",
       "      <td>Redmi 8 (Sapphire Blue, 64 GB)</td>\n",
       "      <td>4</td>\n",
       "      <td>32</td>\n",
       "      <td>674638</td>\n",
       "      <td>50064</td>\n",
       "      <td>4.4</td>\n",
       "      <td>10999</td>\n",
       "      <td>9999</td>\n",
       "    </tr>\n",
       "    <tr>\n",
       "      <th>4</th>\n",
       "      <td>POCO X2 (Matrix Purple, 128 GB)</td>\n",
       "      <td>6</td>\n",
       "      <td>64</td>\n",
       "      <td>133486</td>\n",
       "      <td>14732</td>\n",
       "      <td>4.5</td>\n",
       "      <td>19999</td>\n",
       "      <td>18499</td>\n",
       "    </tr>\n",
       "  </tbody>\n",
       "</table>\n",
       "</div>"
      ],
      "text/plain": [
       "                        MobileName  RAM_GB  ROM_GB  Ratings  Reviews  Stars  \\\n",
       "0      Redmi 8 (Onyx Black, 64 GB)       4      64   674638    50064    4.4   \n",
       "1  Realme 5i (Forest Green, 64 GB)       4      64   243106    16497    4.5   \n",
       "2     Realme 5i (Aqua Blue, 64 GB)       4      64   243106    16497    4.5   \n",
       "3   Redmi 8 (Sapphire Blue, 64 GB)       4      32   674638    50064    4.4   \n",
       "4  POCO X2 (Matrix Purple, 128 GB)       6      64   133486    14732    4.5   \n",
       "\n",
       "   ListPrice  SalesPrice  \n",
       "0      10999        9999  \n",
       "1      10999       10999  \n",
       "2      10999       10999  \n",
       "3      10999        9999  \n",
       "4      19999       18499  "
      ]
     },
     "execution_count": 6,
     "metadata": {},
     "output_type": "execute_result"
    }
   ],
   "source": [
    "df.head()"
   ]
  },
  {
   "cell_type": "code",
   "execution_count": 7,
   "metadata": {},
   "outputs": [
    {
     "data": {
      "text/plain": [
       "['Onyx Black', ' 64 GB)']"
      ]
     },
     "execution_count": 7,
     "metadata": {},
     "output_type": "execute_result"
    }
   ],
   "source": [
    "df['MobileName'][0].split(\"(\")[1].split(\",\")"
   ]
  },
  {
   "cell_type": "code",
   "execution_count": 8,
   "metadata": {},
   "outputs": [
    {
     "data": {
      "text/html": [
       "<div>\n",
       "<style scoped>\n",
       "    .dataframe tbody tr th:only-of-type {\n",
       "        vertical-align: middle;\n",
       "    }\n",
       "\n",
       "    .dataframe tbody tr th {\n",
       "        vertical-align: top;\n",
       "    }\n",
       "\n",
       "    .dataframe thead th {\n",
       "        text-align: right;\n",
       "    }\n",
       "</style>\n",
       "<table border=\"1\" class=\"dataframe\">\n",
       "  <thead>\n",
       "    <tr style=\"text-align: right;\">\n",
       "      <th></th>\n",
       "      <th>MobileName</th>\n",
       "      <th>RAM_GB</th>\n",
       "      <th>ROM_GB</th>\n",
       "      <th>Ratings</th>\n",
       "      <th>Reviews</th>\n",
       "      <th>Stars</th>\n",
       "      <th>ListPrice</th>\n",
       "      <th>SalesPrice</th>\n",
       "      <th>Color</th>\n",
       "    </tr>\n",
       "  </thead>\n",
       "  <tbody>\n",
       "    <tr>\n",
       "      <th>0</th>\n",
       "      <td>Redmi 8 (Onyx Black, 64 GB)</td>\n",
       "      <td>4</td>\n",
       "      <td>64</td>\n",
       "      <td>674638</td>\n",
       "      <td>50064</td>\n",
       "      <td>4.4</td>\n",
       "      <td>10999</td>\n",
       "      <td>9999</td>\n",
       "      <td>Onyx Black</td>\n",
       "    </tr>\n",
       "    <tr>\n",
       "      <th>1</th>\n",
       "      <td>Realme 5i (Forest Green, 64 GB)</td>\n",
       "      <td>4</td>\n",
       "      <td>64</td>\n",
       "      <td>243106</td>\n",
       "      <td>16497</td>\n",
       "      <td>4.5</td>\n",
       "      <td>10999</td>\n",
       "      <td>10999</td>\n",
       "      <td>Forest Green</td>\n",
       "    </tr>\n",
       "    <tr>\n",
       "      <th>2</th>\n",
       "      <td>Realme 5i (Aqua Blue, 64 GB)</td>\n",
       "      <td>4</td>\n",
       "      <td>64</td>\n",
       "      <td>243106</td>\n",
       "      <td>16497</td>\n",
       "      <td>4.5</td>\n",
       "      <td>10999</td>\n",
       "      <td>10999</td>\n",
       "      <td>Aqua Blue</td>\n",
       "    </tr>\n",
       "    <tr>\n",
       "      <th>3</th>\n",
       "      <td>Redmi 8 (Sapphire Blue, 64 GB)</td>\n",
       "      <td>4</td>\n",
       "      <td>32</td>\n",
       "      <td>674638</td>\n",
       "      <td>50064</td>\n",
       "      <td>4.4</td>\n",
       "      <td>10999</td>\n",
       "      <td>9999</td>\n",
       "      <td>Sapphire Blue</td>\n",
       "    </tr>\n",
       "    <tr>\n",
       "      <th>4</th>\n",
       "      <td>POCO X2 (Matrix Purple, 128 GB)</td>\n",
       "      <td>6</td>\n",
       "      <td>64</td>\n",
       "      <td>133486</td>\n",
       "      <td>14732</td>\n",
       "      <td>4.5</td>\n",
       "      <td>19999</td>\n",
       "      <td>18499</td>\n",
       "      <td>Matrix Purple</td>\n",
       "    </tr>\n",
       "  </tbody>\n",
       "</table>\n",
       "</div>"
      ],
      "text/plain": [
       "                        MobileName  RAM_GB  ROM_GB  Ratings  Reviews  Stars  \\\n",
       "0      Redmi 8 (Onyx Black, 64 GB)       4      64   674638    50064    4.4   \n",
       "1  Realme 5i (Forest Green, 64 GB)       4      64   243106    16497    4.5   \n",
       "2     Realme 5i (Aqua Blue, 64 GB)       4      64   243106    16497    4.5   \n",
       "3   Redmi 8 (Sapphire Blue, 64 GB)       4      32   674638    50064    4.4   \n",
       "4  POCO X2 (Matrix Purple, 128 GB)       6      64   133486    14732    4.5   \n",
       "\n",
       "   ListPrice  SalesPrice          Color  \n",
       "0      10999        9999     Onyx Black  \n",
       "1      10999       10999   Forest Green  \n",
       "2      10999       10999      Aqua Blue  \n",
       "3      10999        9999  Sapphire Blue  \n",
       "4      19999       18499  Matrix Purple  "
      ]
     },
     "execution_count": 8,
     "metadata": {},
     "output_type": "execute_result"
    }
   ],
   "source": [
    "df['Color'] = df['MobileName'].apply(lambda x : x.split(\",\")[0].split(\"(\")[1] \n",
    "                                        if len(x.split(\",\")[0].split(\"(\")) > 1 else 'No Color')\n",
    "\n",
    "df.head()"
   ]
  },
  {
   "cell_type": "code",
   "execution_count": 9,
   "metadata": {},
   "outputs": [
    {
     "data": {
      "text/html": [
       "<div>\n",
       "<style scoped>\n",
       "    .dataframe tbody tr th:only-of-type {\n",
       "        vertical-align: middle;\n",
       "    }\n",
       "\n",
       "    .dataframe tbody tr th {\n",
       "        vertical-align: top;\n",
       "    }\n",
       "\n",
       "    .dataframe thead th {\n",
       "        text-align: right;\n",
       "    }\n",
       "</style>\n",
       "<table border=\"1\" class=\"dataframe\">\n",
       "  <thead>\n",
       "    <tr style=\"text-align: right;\">\n",
       "      <th></th>\n",
       "      <th>MobileName</th>\n",
       "      <th>RAM_GB</th>\n",
       "      <th>ROM_GB</th>\n",
       "      <th>Ratings</th>\n",
       "      <th>Reviews</th>\n",
       "      <th>Stars</th>\n",
       "      <th>ListPrice</th>\n",
       "      <th>SalesPrice</th>\n",
       "      <th>Color</th>\n",
       "      <th>Brand</th>\n",
       "    </tr>\n",
       "  </thead>\n",
       "  <tbody>\n",
       "    <tr>\n",
       "      <th>0</th>\n",
       "      <td>Redmi 8 (Onyx Black, 64 GB)</td>\n",
       "      <td>4</td>\n",
       "      <td>64</td>\n",
       "      <td>674638</td>\n",
       "      <td>50064</td>\n",
       "      <td>4.4</td>\n",
       "      <td>10999</td>\n",
       "      <td>9999</td>\n",
       "      <td>Onyx Black</td>\n",
       "      <td>Redmi</td>\n",
       "    </tr>\n",
       "    <tr>\n",
       "      <th>1</th>\n",
       "      <td>Realme 5i (Forest Green, 64 GB)</td>\n",
       "      <td>4</td>\n",
       "      <td>64</td>\n",
       "      <td>243106</td>\n",
       "      <td>16497</td>\n",
       "      <td>4.5</td>\n",
       "      <td>10999</td>\n",
       "      <td>10999</td>\n",
       "      <td>Forest Green</td>\n",
       "      <td>Realme</td>\n",
       "    </tr>\n",
       "    <tr>\n",
       "      <th>2</th>\n",
       "      <td>Realme 5i (Aqua Blue, 64 GB)</td>\n",
       "      <td>4</td>\n",
       "      <td>64</td>\n",
       "      <td>243106</td>\n",
       "      <td>16497</td>\n",
       "      <td>4.5</td>\n",
       "      <td>10999</td>\n",
       "      <td>10999</td>\n",
       "      <td>Aqua Blue</td>\n",
       "      <td>Realme</td>\n",
       "    </tr>\n",
       "    <tr>\n",
       "      <th>3</th>\n",
       "      <td>Redmi 8 (Sapphire Blue, 64 GB)</td>\n",
       "      <td>4</td>\n",
       "      <td>32</td>\n",
       "      <td>674638</td>\n",
       "      <td>50064</td>\n",
       "      <td>4.4</td>\n",
       "      <td>10999</td>\n",
       "      <td>9999</td>\n",
       "      <td>Sapphire Blue</td>\n",
       "      <td>Redmi</td>\n",
       "    </tr>\n",
       "    <tr>\n",
       "      <th>4</th>\n",
       "      <td>POCO X2 (Matrix Purple, 128 GB)</td>\n",
       "      <td>6</td>\n",
       "      <td>64</td>\n",
       "      <td>133486</td>\n",
       "      <td>14732</td>\n",
       "      <td>4.5</td>\n",
       "      <td>19999</td>\n",
       "      <td>18499</td>\n",
       "      <td>Matrix Purple</td>\n",
       "      <td>POCO</td>\n",
       "    </tr>\n",
       "  </tbody>\n",
       "</table>\n",
       "</div>"
      ],
      "text/plain": [
       "                        MobileName  RAM_GB  ROM_GB  Ratings  Reviews  Stars  \\\n",
       "0      Redmi 8 (Onyx Black, 64 GB)       4      64   674638    50064    4.4   \n",
       "1  Realme 5i (Forest Green, 64 GB)       4      64   243106    16497    4.5   \n",
       "2     Realme 5i (Aqua Blue, 64 GB)       4      64   243106    16497    4.5   \n",
       "3   Redmi 8 (Sapphire Blue, 64 GB)       4      32   674638    50064    4.4   \n",
       "4  POCO X2 (Matrix Purple, 128 GB)       6      64   133486    14732    4.5   \n",
       "\n",
       "   ListPrice  SalesPrice          Color   Brand  \n",
       "0      10999        9999     Onyx Black   Redmi  \n",
       "1      10999       10999   Forest Green  Realme  \n",
       "2      10999       10999      Aqua Blue  Realme  \n",
       "3      10999        9999  Sapphire Blue   Redmi  \n",
       "4      19999       18499  Matrix Purple    POCO  "
      ]
     },
     "execution_count": 9,
     "metadata": {},
     "output_type": "execute_result"
    }
   ],
   "source": [
    "df['Brand'] = df['MobileName'].apply(lambda x : x.split()[0])\n",
    "df['Brand'] = df['Brand'].apply(lambda x : 'I Kall' if x == 'I' else x)\n",
    "df.head()"
   ]
  },
  {
   "cell_type": "code",
   "execution_count": 10,
   "metadata": {},
   "outputs": [
    {
     "data": {
      "text/html": [
       "<div>\n",
       "<style scoped>\n",
       "    .dataframe tbody tr th:only-of-type {\n",
       "        vertical-align: middle;\n",
       "    }\n",
       "\n",
       "    .dataframe tbody tr th {\n",
       "        vertical-align: top;\n",
       "    }\n",
       "\n",
       "    .dataframe thead th {\n",
       "        text-align: right;\n",
       "    }\n",
       "</style>\n",
       "<table border=\"1\" class=\"dataframe\">\n",
       "  <thead>\n",
       "    <tr style=\"text-align: right;\">\n",
       "      <th></th>\n",
       "      <th>MobileName</th>\n",
       "      <th>RAM_GB</th>\n",
       "      <th>ROM_GB</th>\n",
       "      <th>Ratings</th>\n",
       "      <th>Reviews</th>\n",
       "      <th>Stars</th>\n",
       "      <th>ListPrice</th>\n",
       "      <th>SalesPrice</th>\n",
       "      <th>Color</th>\n",
       "      <th>Brand</th>\n",
       "    </tr>\n",
       "  </thead>\n",
       "  <tbody>\n",
       "    <tr>\n",
       "      <th>0</th>\n",
       "      <td>Redmi 8</td>\n",
       "      <td>4</td>\n",
       "      <td>64</td>\n",
       "      <td>674638</td>\n",
       "      <td>50064</td>\n",
       "      <td>4.4</td>\n",
       "      <td>10999</td>\n",
       "      <td>9999</td>\n",
       "      <td>Onyx Black</td>\n",
       "      <td>Redmi</td>\n",
       "    </tr>\n",
       "    <tr>\n",
       "      <th>1</th>\n",
       "      <td>Realme 5i</td>\n",
       "      <td>4</td>\n",
       "      <td>64</td>\n",
       "      <td>243106</td>\n",
       "      <td>16497</td>\n",
       "      <td>4.5</td>\n",
       "      <td>10999</td>\n",
       "      <td>10999</td>\n",
       "      <td>Forest Green</td>\n",
       "      <td>Realme</td>\n",
       "    </tr>\n",
       "    <tr>\n",
       "      <th>2</th>\n",
       "      <td>Realme 5i</td>\n",
       "      <td>4</td>\n",
       "      <td>64</td>\n",
       "      <td>243106</td>\n",
       "      <td>16497</td>\n",
       "      <td>4.5</td>\n",
       "      <td>10999</td>\n",
       "      <td>10999</td>\n",
       "      <td>Aqua Blue</td>\n",
       "      <td>Realme</td>\n",
       "    </tr>\n",
       "    <tr>\n",
       "      <th>3</th>\n",
       "      <td>Redmi 8</td>\n",
       "      <td>4</td>\n",
       "      <td>32</td>\n",
       "      <td>674638</td>\n",
       "      <td>50064</td>\n",
       "      <td>4.4</td>\n",
       "      <td>10999</td>\n",
       "      <td>9999</td>\n",
       "      <td>Sapphire Blue</td>\n",
       "      <td>Redmi</td>\n",
       "    </tr>\n",
       "    <tr>\n",
       "      <th>4</th>\n",
       "      <td>POCO X2</td>\n",
       "      <td>6</td>\n",
       "      <td>64</td>\n",
       "      <td>133486</td>\n",
       "      <td>14732</td>\n",
       "      <td>4.5</td>\n",
       "      <td>19999</td>\n",
       "      <td>18499</td>\n",
       "      <td>Matrix Purple</td>\n",
       "      <td>POCO</td>\n",
       "    </tr>\n",
       "  </tbody>\n",
       "</table>\n",
       "</div>"
      ],
      "text/plain": [
       "   MobileName  RAM_GB  ROM_GB  Ratings  Reviews  Stars  ListPrice  SalesPrice  \\\n",
       "0    Redmi 8        4      64   674638    50064    4.4      10999        9999   \n",
       "1  Realme 5i        4      64   243106    16497    4.5      10999       10999   \n",
       "2  Realme 5i        4      64   243106    16497    4.5      10999       10999   \n",
       "3    Redmi 8        4      32   674638    50064    4.4      10999        9999   \n",
       "4    POCO X2        6      64   133486    14732    4.5      19999       18499   \n",
       "\n",
       "           Color   Brand  \n",
       "0     Onyx Black   Redmi  \n",
       "1   Forest Green  Realme  \n",
       "2      Aqua Blue  Realme  \n",
       "3  Sapphire Blue   Redmi  \n",
       "4  Matrix Purple    POCO  "
      ]
     },
     "execution_count": 10,
     "metadata": {},
     "output_type": "execute_result"
    }
   ],
   "source": [
    "df['MobileName'] = df['MobileName'].apply(lambda x : x.split(\"(\")[0])\n",
    "df.head()"
   ]
  },
  {
   "cell_type": "code",
   "execution_count": 11,
   "metadata": {},
   "outputs": [
    {
     "data": {
      "text/html": [
       "<div>\n",
       "<style scoped>\n",
       "    .dataframe tbody tr th:only-of-type {\n",
       "        vertical-align: middle;\n",
       "    }\n",
       "\n",
       "    .dataframe tbody tr th {\n",
       "        vertical-align: top;\n",
       "    }\n",
       "\n",
       "    .dataframe thead th {\n",
       "        text-align: right;\n",
       "    }\n",
       "</style>\n",
       "<table border=\"1\" class=\"dataframe\">\n",
       "  <thead>\n",
       "    <tr style=\"text-align: right;\">\n",
       "      <th></th>\n",
       "      <th>MobileName</th>\n",
       "      <th>RAM_GB</th>\n",
       "      <th>ROM_GB</th>\n",
       "      <th>Ratings</th>\n",
       "      <th>Reviews</th>\n",
       "      <th>Stars</th>\n",
       "      <th>ListPrice</th>\n",
       "      <th>SalesPrice</th>\n",
       "      <th>Color</th>\n",
       "      <th>Brand</th>\n",
       "      <th>Discount</th>\n",
       "    </tr>\n",
       "  </thead>\n",
       "  <tbody>\n",
       "    <tr>\n",
       "      <th>0</th>\n",
       "      <td>Redmi 8</td>\n",
       "      <td>4</td>\n",
       "      <td>64</td>\n",
       "      <td>674638</td>\n",
       "      <td>50064</td>\n",
       "      <td>4.4</td>\n",
       "      <td>10999</td>\n",
       "      <td>9999</td>\n",
       "      <td>Onyx Black</td>\n",
       "      <td>Redmi</td>\n",
       "      <td>1000</td>\n",
       "    </tr>\n",
       "    <tr>\n",
       "      <th>1</th>\n",
       "      <td>Realme 5i</td>\n",
       "      <td>4</td>\n",
       "      <td>64</td>\n",
       "      <td>243106</td>\n",
       "      <td>16497</td>\n",
       "      <td>4.5</td>\n",
       "      <td>10999</td>\n",
       "      <td>10999</td>\n",
       "      <td>Forest Green</td>\n",
       "      <td>Realme</td>\n",
       "      <td>0</td>\n",
       "    </tr>\n",
       "    <tr>\n",
       "      <th>2</th>\n",
       "      <td>Realme 5i</td>\n",
       "      <td>4</td>\n",
       "      <td>64</td>\n",
       "      <td>243106</td>\n",
       "      <td>16497</td>\n",
       "      <td>4.5</td>\n",
       "      <td>10999</td>\n",
       "      <td>10999</td>\n",
       "      <td>Aqua Blue</td>\n",
       "      <td>Realme</td>\n",
       "      <td>0</td>\n",
       "    </tr>\n",
       "    <tr>\n",
       "      <th>3</th>\n",
       "      <td>Redmi 8</td>\n",
       "      <td>4</td>\n",
       "      <td>32</td>\n",
       "      <td>674638</td>\n",
       "      <td>50064</td>\n",
       "      <td>4.4</td>\n",
       "      <td>10999</td>\n",
       "      <td>9999</td>\n",
       "      <td>Sapphire Blue</td>\n",
       "      <td>Redmi</td>\n",
       "      <td>1000</td>\n",
       "    </tr>\n",
       "    <tr>\n",
       "      <th>4</th>\n",
       "      <td>POCO X2</td>\n",
       "      <td>6</td>\n",
       "      <td>64</td>\n",
       "      <td>133486</td>\n",
       "      <td>14732</td>\n",
       "      <td>4.5</td>\n",
       "      <td>19999</td>\n",
       "      <td>18499</td>\n",
       "      <td>Matrix Purple</td>\n",
       "      <td>POCO</td>\n",
       "      <td>1500</td>\n",
       "    </tr>\n",
       "  </tbody>\n",
       "</table>\n",
       "</div>"
      ],
      "text/plain": [
       "   MobileName  RAM_GB  ROM_GB  Ratings  Reviews  Stars  ListPrice  SalesPrice  \\\n",
       "0    Redmi 8        4      64   674638    50064    4.4      10999        9999   \n",
       "1  Realme 5i        4      64   243106    16497    4.5      10999       10999   \n",
       "2  Realme 5i        4      64   243106    16497    4.5      10999       10999   \n",
       "3    Redmi 8        4      32   674638    50064    4.4      10999        9999   \n",
       "4    POCO X2        6      64   133486    14732    4.5      19999       18499   \n",
       "\n",
       "           Color   Brand  Discount  \n",
       "0     Onyx Black   Redmi      1000  \n",
       "1   Forest Green  Realme         0  \n",
       "2      Aqua Blue  Realme         0  \n",
       "3  Sapphire Blue   Redmi      1000  \n",
       "4  Matrix Purple    POCO      1500  "
      ]
     },
     "execution_count": 11,
     "metadata": {},
     "output_type": "execute_result"
    }
   ],
   "source": [
    "df['Discount'] = df['ListPrice'] - df['SalesPrice']\n",
    "df.head()"
   ]
  },
  {
   "cell_type": "markdown",
   "metadata": {},
   "source": [
    "-------------------------------------------------------------------------------------------------------------------------------"
   ]
  },
  {
   "cell_type": "markdown",
   "metadata": {},
   "source": [
    "## Data Visualization"
   ]
  },
  {
   "cell_type": "code",
   "execution_count": 12,
   "metadata": {},
   "outputs": [
    {
     "name": "stdout",
     "output_type": "stream",
     "text": [
      "Realme      33\n",
      "Vivo        16\n",
      "OPPO        16\n",
      "I Kall      13\n",
      "Apple       11\n",
      "Redmi       10\n",
      "Infinix      8\n",
      "POCO         5\n",
      "Motorola     3\n",
      "Tecno        3\n",
      "Lava         1\n",
      "Nokia        1\n",
      "Name: Brand, dtype: int64\n"
     ]
    },
    {
     "data": {
      "text/plain": [
       "<matplotlib.axes._subplots.AxesSubplot at 0x27f234edd30>"
      ]
     },
     "execution_count": 12,
     "metadata": {},
     "output_type": "execute_result"
    },
    {
     "data": {
      "image/png": "[encoded data removed]",
      "text/plain": [
       "<Figure size 720x360 with 1 Axes>"
      ]
     },
     "metadata": {
      "needs_background": "light"
     },
     "output_type": "display_data"
    }
   ],
   "source": [
    "print(df['Brand'].value_counts())\n",
    "\n",
    "plt.figure(figsize=(10,5))\n",
    "sns.countplot('Brand', data=df)"
   ]
  },
  {
   "cell_type": "markdown",
   "metadata": {},
   "source": [
    "There are many products available that are manufactured by \"RealMe\". Let us now view how many distinct products are manufactured and sold by each of these brands."
   ]
  },
  {
   "cell_type": "code",
   "execution_count": 13,
   "metadata": {},
   "outputs": [
    {
     "name": "stdout",
     "output_type": "stream",
     "text": [
      "Realme 6                   7\n",
      "Apple iPhone XR            6\n",
      "Realme C2                  6\n",
      "Realme 6 Pro               6\n",
      "POCO X2                    5\n",
      "Redmi Note 8 Pro           4\n",
      "Realme Narzo 10A           4\n",
      "OPPO A5s                   4\n",
      "OPPO A12                   4\n",
      "Apple iPhone SE            4\n",
      "OPPO A9 2020               4\n",
      "Redmi 8A Dual              4\n",
      "Vivo Z1x                   3\n",
      "I Kall K6                  3\n",
      "Infinix S5 Pro             3\n",
      "I Kall K220                3\n",
      "Motorola G8 Power Lite     3\n",
      "Infinix Smart 4 Plus       3\n",
      "Realme Narzo 10            3\n",
      "I Kall K1000               3\n",
      "Name: MobileName, dtype: int64\n"
     ]
    },
    {
     "data": {
      "text/plain": [
       "(array([ 0,  1,  2,  3,  4,  5,  6,  7,  8,  9, 10, 11, 12, 13, 14, 15, 16,\n",
       "        17, 18, 19, 20, 21, 22, 23, 24, 25, 26, 27, 28, 29, 30, 31, 32, 33,\n",
       "        34, 35, 36, 37, 38, 39, 40]), <a list of 41 Text xticklabel objects>)"
      ]
     },
     "execution_count": 13,
     "metadata": {},
     "output_type": "execute_result"
    },
    {
     "data": {
      "image/png": "[encoded data removed]",
      "text/plain": [
       "<Figure size 1440x360 with 1 Axes>"
      ]
     },
     "metadata": {
      "needs_background": "light"
     },
     "output_type": "display_data"
    }
   ],
   "source": [
    "print(df['MobileName'].value_counts()[:20])\n",
    "\n",
    "plt.figure(figsize=(20,5))\n",
    "sns.countplot('MobileName', data=df)\n",
    "plt.xticks(rotation=60)"
   ]
  },
  {
   "cell_type": "markdown",
   "metadata": {},
   "source": [
    "We observe that \"Realme\" is the only brand that does not manufacture only have a single model, but have a variety of models available - \"Realme 5i, Realme 6, Realme C11, Realme Narzo 10A, Realme 6 Pro and many\". Whereas other products have only variations within their model.\n",
    "The \"Realme Narzo 10A\" mobile phones available for sale have the most variation within the model."
   ]
  },
  {
   "cell_type": "code",
   "execution_count": 14,
   "metadata": {},
   "outputs": [
    {
     "name": "stdout",
     "output_type": "stream",
     "text": [
      "4.4    40\n",
      "4.5    28\n",
      "4.3    19\n",
      "4.6    12\n",
      "4.2     7\n",
      "2.8     3\n",
      "3.1     3\n",
      "2.9     3\n",
      "3.0     3\n",
      "4.1     1\n",
      "3.4     1\n",
      "Name: Stars, dtype: int64\n"
     ]
    },
    {
     "data": {
      "text/plain": [
       "<matplotlib.axes._subplots.AxesSubplot at 0x27f24bd1908>"
      ]
     },
     "execution_count": 14,
     "metadata": {},
     "output_type": "execute_result"
    },
    {
     "data": {
      "image/png": "[encoded data removed]",
      "text/plain": [
       "<Figure size 432x288 with 1 Axes>"
      ]
     },
     "metadata": {
      "needs_background": "light"
     },
     "output_type": "display_data"
    }
   ],
   "source": [
    "print(df['Stars'].value_counts())\n",
    "\n",
    "sns.distplot(df['Stars'])"
   ]
  },
  {
   "cell_type": "markdown",
   "metadata": {},
   "source": [
    "The stars given to the product lie between 3.0 to 4.6."
   ]
  },
  {
   "cell_type": "code",
   "execution_count": 15,
   "metadata": {},
   "outputs": [
    {
     "name": "stdout",
     "output_type": "stream",
     "text": [
      "Phones with lowest stars\n",
      "I Kall K6 \n",
      "\n",
      "Phones with highest stars\n",
      "Realme C11 \n",
      "Realme Narzo 10A \n",
      "Apple iPhone XR \n"
     ]
    }
   ],
   "source": [
    "print(\"Phones with lowest stars\")\n",
    "print(\"\\n\".join(df[df['Stars']==3.0]['MobileName'].unique()))\n",
    "\n",
    "print(\"\\nPhones with highest stars\")\n",
    "print(\"\\n\".join(df[df['Stars']==4.6]['MobileName'].unique()))"
   ]
  },
  {
   "cell_type": "code",
   "execution_count": 16,
   "metadata": {},
   "outputs": [
    {
     "data": {
      "text/plain": [
       "<matplotlib.axes._subplots.AxesSubplot at 0x27f24bd1470>"
      ]
     },
     "execution_count": 16,
     "metadata": {},
     "output_type": "execute_result"
    },
    {
     "data": {
      "image/png": "[encoded data removed]",
      "text/plain": [
       "<Figure size 720x360 with 1 Axes>"
      ]
     },
     "metadata": {
      "needs_background": "light"
     },
     "output_type": "display_data"
    }
   ],
   "source": [
    "plt.figure(figsize=(10,5))\n",
    "sns.barplot(df['Brand'],df['Stars'],data=df)"
   ]
  },
  {
   "cell_type": "markdown",
   "metadata": {},
   "source": [
    "Apart from \"I Kall\" the stars given to all other brands are better. Probably the reason being that the company may not be known by many customers. Thus does not satisfy the consumer mentality of fimilarity.  "
   ]
  },
  {
   "cell_type": "code",
   "execution_count": 17,
   "metadata": {},
   "outputs": [
    {
     "data": {
      "text/plain": [
       "<matplotlib.axes._subplots.AxesSubplot at 0x27f24acdef0>"
      ]
     },
     "execution_count": 17,
     "metadata": {},
     "output_type": "execute_result"
    },
    {
     "data": {
      "image/png": "[encoded data removed]",
      "text/plain": [
       "<Figure size 432x288 with 1 Axes>"
      ]
     },
     "metadata": {
      "needs_background": "light"
     },
     "output_type": "display_data"
    }
   ],
   "source": [
    "discount = df['Discount'].value_counts()[:5]\n",
    "discount.plot(kind='bar',title='Top 5 Discount Rate (In Rupees)')"
   ]
  },
  {
   "cell_type": "markdown",
   "metadata": {},
   "source": [
    "Some products do not offer any discount. But, among those that offer 1000₹ is the most offered discount."
   ]
  },
  {
   "cell_type": "code",
   "execution_count": 18,
   "metadata": {},
   "outputs": [
    {
     "name": "stdout",
     "output_type": "stream",
     "text": [
      "*** RAM *** \n",
      "4     46\n",
      "3     21\n",
      "6     18\n",
      "2     12\n",
      "0     11\n",
      "8     10\n",
      "32     2\n",
      "Name: RAM_GB, dtype: int64\n",
      "\n",
      "*** ROM *** \n",
      "64     62\n",
      "32     30\n",
      "128    22\n",
      "16      5\n",
      "4       1\n",
      "Name: ROM_GB, dtype: int64\n"
     ]
    }
   ],
   "source": [
    "print(\"*** RAM *** \")\n",
    "print(df['RAM_GB'].value_counts())\n",
    "print(\"\\n*** ROM *** \")\n",
    "print(df['ROM_GB'].value_counts())"
   ]
  },
  {
   "cell_type": "markdown",
   "metadata": {},
   "source": [
    "There are 3 inconsistencies in the values of the RAM and ROM. Thus we drop these 3 rows.  "
   ]
  },
  {
   "cell_type": "code",
   "execution_count": 19,
   "metadata": {},
   "outputs": [
    {
     "name": "stdout",
     "output_type": "stream",
     "text": [
      "Int64Index([115, 118], dtype='int64')\n",
      "Int64Index([80], dtype='int64')\n"
     ]
    }
   ],
   "source": [
    "print(df[df['RAM_GB'] == 32].index)\n",
    "print(df[df['ROM_GB'] == 4].index)"
   ]
  },
  {
   "cell_type": "code",
   "execution_count": 20,
   "metadata": {},
   "outputs": [],
   "source": [
    "df.drop([115,118,80], inplace=True,axis=0)"
   ]
  },
  {
   "cell_type": "code",
   "execution_count": 21,
   "metadata": {},
   "outputs": [
    {
     "name": "stdout",
     "output_type": "stream",
     "text": [
      "*** RAM *** \n",
      "4    45\n",
      "3    21\n",
      "6    18\n",
      "2    12\n",
      "0    11\n",
      "8    10\n",
      "Name: RAM_GB, dtype: int64\n",
      "\n",
      "*** ROM *** \n",
      "64     61\n",
      "32     29\n",
      "128    22\n",
      "16      5\n",
      "Name: ROM_GB, dtype: int64\n"
     ]
    },
    {
     "data": {
      "text/plain": [
       "Text(0.5, 0, 'GB')"
      ]
     },
     "execution_count": 21,
     "metadata": {},
     "output_type": "execute_result"
    },
    {
     "data": {
      "image/png": "[encoded data removed]",
      "text/plain": [
       "<Figure size 1008x360 with 2 Axes>"
      ]
     },
     "metadata": {
      "needs_background": "light"
     },
     "output_type": "display_data"
    }
   ],
   "source": [
    "print(\"*** RAM *** \")\n",
    "print(df['RAM_GB'].value_counts())\n",
    "print(\"\\n*** ROM *** \")\n",
    "print(df['ROM_GB'].value_counts())\n",
    "\n",
    "plt.figure(figsize=(14,5))\n",
    "\n",
    "plt.subplot(1,2,1)\n",
    "plt.title(\"RAM Space in GB\")\n",
    "sns.countplot('RAM_GB', data=df)\n",
    "plt.xlabel(\"GB\")\n",
    "\n",
    "plt.subplot(1,2,2)\n",
    "plt.title(\"ROM Space in GB\")\n",
    "sns.countplot('ROM_GB', data=df)\n",
    "plt.xlabel(\"GB\")"
   ]
  },
  {
   "cell_type": "markdown",
   "metadata": {},
   "source": [
    "The maximum amount of RAM and ROM are 8GB and 128GB respectively. There are many Mobile Phones with a 4GB RAM and 64GB ROM."
   ]
  },
  {
   "cell_type": "code",
   "execution_count": 22,
   "metadata": {},
   "outputs": [
    {
     "name": "stdout",
     "output_type": "stream",
     "text": [
      "Blue                14\n",
      "Black                7\n",
      "Lightning Orange     4\n",
      "Comet White          4\n",
      "Red                  4\n",
      "Sea Blue             3\n",
      "White                3\n",
      "Aqua Blue            3\n",
      "Comet Blue           3\n",
      "Atlantis Blue        3\n",
      "Name: Color, dtype: int64\n"
     ]
    },
    {
     "data": {
      "text/plain": [
       "<matplotlib.axes._subplots.AxesSubplot at 0x27f24fd1908>"
      ]
     },
     "execution_count": 22,
     "metadata": {},
     "output_type": "execute_result"
    },
    {
     "data": {
      "image/png": "[encoded data removed]",
      "text/plain": [
       "<Figure size 720x360 with 1 Axes>"
      ]
     },
     "metadata": {
      "needs_background": "light"
     },
     "output_type": "display_data"
    }
   ],
   "source": [
    "print(df['Color'].value_counts()[:10])\n",
    "\n",
    "popcol = df['Color'].value_counts()[:10]\n",
    "\n",
    "plt.figure(figsize=(10,5))\n",
    "popcol.plot(kind='bar')"
   ]
  },
  {
   "cell_type": "markdown",
   "metadata": {},
   "source": [
    "Blue and White-colored phones are largely available."
   ]
  },
  {
   "cell_type": "code",
   "execution_count": 23,
   "metadata": {},
   "outputs": [
    {
     "data": {
      "image/png": "[encoded data removed]",
      "text/plain": [
       "<Figure size 720x360 with 4 Axes>"
      ]
     },
     "metadata": {
      "needs_background": "light"
     },
     "output_type": "display_data"
    }
   ],
   "source": [
    "plt.figure(figsize=(10,5))\n",
    "\n",
    "plt.subplot(2,2,1)\n",
    "plt.title(\"Ratings\")\n",
    "sns.boxplot('Ratings', data=df)\n",
    "\n",
    "plt.subplot(2,2,2)\n",
    "plt.title(\"Reviews\")\n",
    "sns.boxplot('Reviews', data=df)\n",
    "\n",
    "plt.subplot(2,2,3)\n",
    "plt.title(\"List Price\")\n",
    "sns.boxplot('ListPrice', data=df)\n",
    "\n",
    "plt.subplot(2,2,4)\n",
    "plt.title(\"Sales Price\")\n",
    "sns.boxplot('SalesPrice', data=df)\n",
    "\n",
    "plt.tight_layout(pad=2.0)"
   ]
  },
  {
   "cell_type": "markdown",
   "metadata": {},
   "source": [
    "We notice each of these attributes has an outlier which could probably be one product itself that causes to be as an outlier for all the other attributes. We will need to handle this as outliers would lead to building a wrong predictive model. We will first deal with the outliers with the help of the Reviews attribute."
   ]
  },
  {
   "cell_type": "code",
   "execution_count": 24,
   "metadata": {},
   "outputs": [],
   "source": [
    "df = df[df['Reviews'] < 5500]\n",
    "df = df[df['Ratings'] < 60000]"
   ]
  },
  {
   "cell_type": "code",
   "execution_count": 25,
   "metadata": {},
   "outputs": [
    {
     "data": {
      "image/png": "[encoded data removed]",
      "text/plain": [
       "<Figure size 720x360 with 4 Axes>"
      ]
     },
     "metadata": {
      "needs_background": "light"
     },
     "output_type": "display_data"
    }
   ],
   "source": [
    "plt.figure(figsize=(10,5))\n",
    "\n",
    "plt.subplot(2,2,1)\n",
    "plt.title(\"Ratings\")\n",
    "sns.boxplot('Ratings', data=df)\n",
    "\n",
    "plt.subplot(2,2,2)\n",
    "plt.title(\"Reviews\")\n",
    "sns.boxplot('Reviews', data=df)\n",
    "\n",
    "plt.subplot(2,2,3)\n",
    "plt.title(\"List Price\")\n",
    "sns.boxplot('ListPrice', data=df)\n",
    "\n",
    "plt.subplot(2,2,4)\n",
    "plt.title(\"Sales Price\")\n",
    "sns.boxplot('SalesPrice', data=df)\n",
    "\n",
    "plt.tight_layout(pad=2.0)"
   ]
  },
  {
   "cell_type": "markdown",
   "metadata": {},
   "source": [
    "So, we can see that our assumption that the outlier may belong to a single product was wrong thus we need to handle this additional outlier before we build our predictive model."
   ]
  },
  {
   "cell_type": "code",
   "execution_count": 26,
   "metadata": {},
   "outputs": [],
   "source": [
    "df = df[df['ListPrice'] < 30000]"
   ]
  },
  {
   "cell_type": "code",
   "execution_count": 27,
   "metadata": {},
   "outputs": [
    {
     "data": {
      "image/png": "[encoded data removed]",
      "text/plain": [
       "<Figure size 720x360 with 4 Axes>"
      ]
     },
     "metadata": {
      "needs_background": "light"
     },
     "output_type": "display_data"
    }
   ],
   "source": [
    "plt.figure(figsize=(10,5))\n",
    "\n",
    "plt.subplot(2,2,1)\n",
    "plt.title(\"Ratings\")\n",
    "sns.boxplot('Ratings', data=df)\n",
    "\n",
    "plt.subplot(2,2,2)\n",
    "plt.title(\"Reviews\")\n",
    "sns.boxplot('Reviews', data=df)\n",
    "\n",
    "plt.subplot(2,2,3)\n",
    "plt.title(\"List Price\")\n",
    "sns.boxplot('ListPrice', data=df)\n",
    "\n",
    "plt.subplot(2,2,4)\n",
    "plt.title(\"Sales Price\")\n",
    "sns.boxplot('SalesPrice', data=df)\n",
    "\n",
    "plt.tight_layout(pad=2.0)"
   ]
  },
  {
   "cell_type": "markdown",
   "metadata": {},
   "source": [
    "Finally, the two outliers are handled and we can proceed with other analyses. Let us now see some relationships between various attributes."
   ]
  },
  {
   "cell_type": "code",
   "execution_count": 28,
   "metadata": {},
   "outputs": [
    {
     "data": {
      "text/plain": [
       "<matplotlib.axes._subplots.AxesSubplot at 0x27f24ebb240>"
      ]
     },
     "execution_count": 28,
     "metadata": {},
     "output_type": "execute_result"
    },
    {
     "data": {
      "image/png": "[encoded data removed]",
      "text/plain": [
       "<Figure size 720x360 with 2 Axes>"
      ]
     },
     "metadata": {
      "needs_background": "light"
     },
     "output_type": "display_data"
    }
   ],
   "source": [
    "plt.figure(figsize=(10,5))\n",
    "sns.heatmap(df.corr(), annot=True)"
   ]
  },
  {
   "cell_type": "markdown",
   "metadata": {},
   "source": [
    "We observe that there is a high positive correlation between the size of the RAM and the List and Sales Price. There is also a positive correlation between Ratings and Review and List and Sales Price. Also, the attribute Discount has a negative correlation with the attributes of ROM_GB, Ratings, and Reviews. We will now analyze positively and negatively related attributes. "
   ]
  },
  {
   "cell_type": "code",
   "execution_count": 29,
   "metadata": {},
   "outputs": [
    {
     "data": {
      "image/png": "[encoded data removed]",
      "text/plain": [
       "<Figure size 720x360 with 2 Axes>"
      ]
     },
     "metadata": {
      "needs_background": "light"
     },
     "output_type": "display_data"
    }
   ],
   "source": [
    "plt.figure(figsize=(10,5))\n",
    "\n",
    "plt.suptitle(\"Correlation Between Attributes\")\n",
    "\n",
    "plt.subplot(1,2,1)\n",
    "plt.title(\"Postive Correlation\")\n",
    "plt.scatter(df['Ratings'],df['Reviews'], marker='v')\n",
    "plt.xlabel(\"Ratings\")\n",
    "plt.ylabel(\"Review\")\n",
    "\n",
    "plt.subplot(1,2,2)\n",
    "plt.title(\"Negative Correlation\")\n",
    "plt.scatter(df['Discount'],df['Reviews'], marker='v')\n",
    "plt.xlabel(\"Discount in Rupees\")\n",
    "plt.ylabel(\"Ratings\")\n",
    "\n",
    "plt.tight_layout(pad=3.5)"
   ]
  },
  {
   "cell_type": "markdown",
   "metadata": {},
   "source": [
    "We observe a strong positive correlation between Ratings and Reviews which means with every increase in the number of ratings there will be an equivalent increase in the number of reviews. Whereas in the negative correlation we spot a slightly negative relation, that means for some products that have lesser discounts receive fewer numbers or ratings and reviews."
   ]
  },
  {
   "cell_type": "code",
   "execution_count": 30,
   "metadata": {},
   "outputs": [
    {
     "data": {
      "text/html": [
       "<div>\n",
       "<style scoped>\n",
       "    .dataframe tbody tr th:only-of-type {\n",
       "        vertical-align: middle;\n",
       "    }\n",
       "\n",
       "    .dataframe tbody tr th {\n",
       "        vertical-align: top;\n",
       "    }\n",
       "\n",
       "    .dataframe thead th {\n",
       "        text-align: right;\n",
       "    }\n",
       "</style>\n",
       "<table border=\"1\" class=\"dataframe\">\n",
       "  <thead>\n",
       "    <tr style=\"text-align: right;\">\n",
       "      <th></th>\n",
       "      <th>Discount</th>\n",
       "      <th>Ratings</th>\n",
       "      <th>SalesPrice</th>\n",
       "    </tr>\n",
       "    <tr>\n",
       "      <th>Brand</th>\n",
       "      <th></th>\n",
       "      <th></th>\n",
       "      <th></th>\n",
       "    </tr>\n",
       "  </thead>\n",
       "  <tbody>\n",
       "    <tr>\n",
       "      <th>I Kall</th>\n",
       "      <td>200.000000</td>\n",
       "      <td>506.250000</td>\n",
       "      <td>6799.000000</td>\n",
       "    </tr>\n",
       "    <tr>\n",
       "      <th>Infinix</th>\n",
       "      <td>1937.500000</td>\n",
       "      <td>9066.375000</td>\n",
       "      <td>9936.500000</td>\n",
       "    </tr>\n",
       "    <tr>\n",
       "      <th>Motorola</th>\n",
       "      <td>500.000000</td>\n",
       "      <td>27992.000000</td>\n",
       "      <td>9499.000000</td>\n",
       "    </tr>\n",
       "    <tr>\n",
       "      <th>OPPO</th>\n",
       "      <td>3312.500000</td>\n",
       "      <td>10612.625000</td>\n",
       "      <td>12990.000000</td>\n",
       "    </tr>\n",
       "    <tr>\n",
       "      <th>POCO</th>\n",
       "      <td>1500.000000</td>\n",
       "      <td>42062.000000</td>\n",
       "      <td>21499.000000</td>\n",
       "    </tr>\n",
       "    <tr>\n",
       "      <th>Realme</th>\n",
       "      <td>647.058824</td>\n",
       "      <td>26625.764706</td>\n",
       "      <td>14704.882353</td>\n",
       "    </tr>\n",
       "    <tr>\n",
       "      <th>Redmi</th>\n",
       "      <td>557.375000</td>\n",
       "      <td>22377.750000</td>\n",
       "      <td>13013.125000</td>\n",
       "    </tr>\n",
       "    <tr>\n",
       "      <th>Tecno</th>\n",
       "      <td>1000.000000</td>\n",
       "      <td>2219.000000</td>\n",
       "      <td>11499.000000</td>\n",
       "    </tr>\n",
       "    <tr>\n",
       "      <th>Vivo</th>\n",
       "      <td>2214.285714</td>\n",
       "      <td>15798.214286</td>\n",
       "      <td>12490.000000</td>\n",
       "    </tr>\n",
       "  </tbody>\n",
       "</table>\n",
       "</div>"
      ],
      "text/plain": [
       "             Discount       Ratings    SalesPrice\n",
       "Brand                                            \n",
       "I Kall     200.000000    506.250000   6799.000000\n",
       "Infinix   1937.500000   9066.375000   9936.500000\n",
       "Motorola   500.000000  27992.000000   9499.000000\n",
       "OPPO      3312.500000  10612.625000  12990.000000\n",
       "POCO      1500.000000  42062.000000  21499.000000\n",
       "Realme     647.058824  26625.764706  14704.882353\n",
       "Redmi      557.375000  22377.750000  13013.125000\n",
       "Tecno     1000.000000   2219.000000  11499.000000\n",
       "Vivo      2214.285714  15798.214286  12490.000000"
      ]
     },
     "execution_count": 30,
     "metadata": {},
     "output_type": "execute_result"
    }
   ],
   "source": [
    "table = pd.pivot_table(df, index='Brand', values=['SalesPrice','Discount','Ratings'])\n",
    "table"
   ]
  },
  {
   "cell_type": "code",
   "execution_count": 31,
   "metadata": {},
   "outputs": [
    {
     "data": {
      "text/plain": [
       "<matplotlib.axes._subplots.AxesSubplot at 0x27f254e6eb8>"
      ]
     },
     "execution_count": 31,
     "metadata": {},
     "output_type": "execute_result"
    },
    {
     "data": {
      "image/png": "[encoded data removed]",
      "text/plain": [
       "<Figure size 720x360 with 1 Axes>"
      ]
     },
     "metadata": {
      "needs_background": "light"
     },
     "output_type": "display_data"
    }
   ],
   "source": [
    "table.plot(kind='bar',figsize=(10,5))"
   ]
  },
  {
   "cell_type": "markdown",
   "metadata": {},
   "source": [
    "I Kall offers a very less discount whereas OPPO has the highest. As far as the Ratings are concerned we observe that POCO has received a far better number of ratings as compared to the rest of the brands. Also, its Sales Price is much more than the rest."
   ]
  },
  {
   "cell_type": "code",
   "execution_count": 32,
   "metadata": {},
   "outputs": [
    {
     "data": {
      "text/plain": [
       "<matplotlib.axes._subplots.AxesSubplot at 0x27f254a3dd8>"
      ]
     },
     "execution_count": 32,
     "metadata": {},
     "output_type": "execute_result"
    },
    {
     "data": {
      "image/png": "[encoded data removed]",
      "text/plain": [
       "<Figure size 720x360 with 1 Axes>"
      ]
     },
     "metadata": {
      "needs_background": "light"
     },
     "output_type": "display_data"
    }
   ],
   "source": [
    "plt.figure(figsize=(10,5))\n",
    "sns.countplot('Brand', data=df)"
   ]
  },
  {
   "cell_type": "markdown",
   "metadata": {},
   "source": [
    "Clubbing the above two graphs we can get a lot of insights. Although Realme has a variety of products their ratings are far less than POCO's even though POCO offers a limited number of models. It seems like a variation of models does no good to OPPO as well."
   ]
  },
  {
   "cell_type": "markdown",
   "metadata": {},
   "source": [
    "-------------------------------------------------------------------------------------------------------------------------------"
   ]
  },
  {
   "cell_type": "markdown",
   "metadata": {},
   "source": [
    "## Summary of Analysis"
   ]
  },
  {
   "cell_type": "markdown",
   "metadata": {},
   "source": [
    "<li>Several cell phones manufactured by Realme are available. These phones not only provide a variety of models but also has many variations concerning the &nbsp;&nbsp;&nbsp;&nbsp;&nbsp;color of the models.</li>\n",
    "<li>The rating of Model \"I Kall K6\" is very low, whereas the ratings of model \"Realme C11, Apple iPhone XR, and Realme Narzo 10A\" are high. This indicates &nbsp;&nbsp;&nbsp;&nbsp;&nbsp;that these two models are very popular among people and satisfy customers' needs.</li>\n",
    "<li>While analysis we realized there were some data inconsistencies in the value of RAM and ROM, since the number of inconsistent values is very small we &nbsp;&nbsp;&nbsp;&nbsp;&nbsp;choose to drop them by their row index.</li>\n",
    "<li>Several phones are having basic configurations that consist of a 4GB RAM and 64GB ROM where the ROM is nothing but the external storage capacity of &nbsp;&nbsp;&nbsp;&nbsp;&nbsp;a phone.</li>\n",
    "<li>We observe that there are many variations on the colors Blue and White, probably these colors are well demanded by the customers.</li>\n",
    "<li>We came across several outliers in the attributes Ratings, Reviews, and List Price. We eliminated them by imposing conditions on the data frame.</li>\n",
    "<li>Several positive and negative relationship was found between many attributes.</li>\n",
    "<li>Lastly, we notice that despite the number of available POCO phones are less this product receives a good amount of ratings for their phone and they offer a &nbsp;&nbsp;&nbsp;&nbsp;&nbsp;moderate amount of discount. On the other hand, OPPO and Realme having a variation of its models fail to receive equivalent ratings.</li> \n",
    "\n",
    " "
   ]
  },
  {
   "cell_type": "markdown",
   "metadata": {},
   "source": [
    "-------------------------------------------------------------------------------------------------------------------------------"
   ]
  },
  {
   "cell_type": "markdown",
   "metadata": {},
   "source": [
    "## Feature Engineering"
   ]
  },
  {
   "cell_type": "code",
   "execution_count": 33,
   "metadata": {},
   "outputs": [
    {
     "data": {
      "text/html": [
       "<div>\n",
       "<style scoped>\n",
       "    .dataframe tbody tr th:only-of-type {\n",
       "        vertical-align: middle;\n",
       "    }\n",
       "\n",
       "    .dataframe tbody tr th {\n",
       "        vertical-align: top;\n",
       "    }\n",
       "\n",
       "    .dataframe thead th {\n",
       "        text-align: right;\n",
       "    }\n",
       "</style>\n",
       "<table border=\"1\" class=\"dataframe\">\n",
       "  <thead>\n",
       "    <tr style=\"text-align: right;\">\n",
       "      <th></th>\n",
       "      <th>MobileName</th>\n",
       "      <th>RAM_GB</th>\n",
       "      <th>ROM_GB</th>\n",
       "      <th>Ratings</th>\n",
       "      <th>Reviews</th>\n",
       "      <th>Stars</th>\n",
       "      <th>ListPrice</th>\n",
       "      <th>SalesPrice</th>\n",
       "      <th>Color</th>\n",
       "      <th>Brand</th>\n",
       "      <th>Discount</th>\n",
       "    </tr>\n",
       "  </thead>\n",
       "  <tbody>\n",
       "    <tr>\n",
       "      <th>6</th>\n",
       "      <td>Realme 6</td>\n",
       "      <td>6</td>\n",
       "      <td>64</td>\n",
       "      <td>30619</td>\n",
       "      <td>3002</td>\n",
       "      <td>4.4</td>\n",
       "      <td>17999</td>\n",
       "      <td>15999</td>\n",
       "      <td>Comet Blue</td>\n",
       "      <td>Realme</td>\n",
       "      <td>2000</td>\n",
       "    </tr>\n",
       "    <tr>\n",
       "      <th>8</th>\n",
       "      <td>Realme C11</td>\n",
       "      <td>2</td>\n",
       "      <td>128</td>\n",
       "      <td>17476</td>\n",
       "      <td>1209</td>\n",
       "      <td>4.6</td>\n",
       "      <td>8999</td>\n",
       "      <td>7499</td>\n",
       "      <td>Rich Green</td>\n",
       "      <td>Realme</td>\n",
       "      <td>1500</td>\n",
       "    </tr>\n",
       "    <tr>\n",
       "      <th>9</th>\n",
       "      <td>Realme C11</td>\n",
       "      <td>2</td>\n",
       "      <td>32</td>\n",
       "      <td>17476</td>\n",
       "      <td>1209</td>\n",
       "      <td>4.6</td>\n",
       "      <td>8999</td>\n",
       "      <td>7499</td>\n",
       "      <td>Rich Grey</td>\n",
       "      <td>Realme</td>\n",
       "      <td>1500</td>\n",
       "    </tr>\n",
       "    <tr>\n",
       "      <th>10</th>\n",
       "      <td>Realme Narzo 10A</td>\n",
       "      <td>3</td>\n",
       "      <td>32</td>\n",
       "      <td>42968</td>\n",
       "      <td>2926</td>\n",
       "      <td>4.6</td>\n",
       "      <td>9999</td>\n",
       "      <td>8999</td>\n",
       "      <td>So White</td>\n",
       "      <td>Realme</td>\n",
       "      <td>1000</td>\n",
       "    </tr>\n",
       "    <tr>\n",
       "      <th>11</th>\n",
       "      <td>Realme Narzo 10A</td>\n",
       "      <td>4</td>\n",
       "      <td>64</td>\n",
       "      <td>17313</td>\n",
       "      <td>1129</td>\n",
       "      <td>4.6</td>\n",
       "      <td>10999</td>\n",
       "      <td>9999</td>\n",
       "      <td>So Blue</td>\n",
       "      <td>Realme</td>\n",
       "      <td>1000</td>\n",
       "    </tr>\n",
       "  </tbody>\n",
       "</table>\n",
       "</div>"
      ],
      "text/plain": [
       "           MobileName  RAM_GB  ROM_GB  Ratings  Reviews  Stars  ListPrice  \\\n",
       "6           Realme 6        6      64    30619     3002    4.4      17999   \n",
       "8         Realme C11        2     128    17476     1209    4.6       8999   \n",
       "9         Realme C11        2      32    17476     1209    4.6       8999   \n",
       "10  Realme Narzo 10A        3      32    42968     2926    4.6       9999   \n",
       "11  Realme Narzo 10A        4      64    17313     1129    4.6      10999   \n",
       "\n",
       "    SalesPrice       Color   Brand  Discount  \n",
       "6        15999  Comet Blue  Realme      2000  \n",
       "8         7499  Rich Green  Realme      1500  \n",
       "9         7499   Rich Grey  Realme      1500  \n",
       "10        8999    So White  Realme      1000  \n",
       "11        9999     So Blue  Realme      1000  "
      ]
     },
     "execution_count": 33,
     "metadata": {},
     "output_type": "execute_result"
    }
   ],
   "source": [
    "df.head()"
   ]
  },
  {
   "cell_type": "code",
   "execution_count": 34,
   "metadata": {},
   "outputs": [
    {
     "data": {
      "text/plain": [
       "Index(['Realme', 'OPPO', 'Vivo', 'I Kall', 'Infinix', 'Redmi', 'Motorola',\n",
       "       'Tecno', 'POCO'],\n",
       "      dtype='object')"
      ]
     },
     "execution_count": 34,
     "metadata": {},
     "output_type": "execute_result"
    }
   ],
   "source": [
    "df.Brand.value_counts().index"
   ]
  },
  {
   "cell_type": "code",
   "execution_count": 35,
   "metadata": {},
   "outputs": [
    {
     "data": {
      "text/html": [
       "<div>\n",
       "<style scoped>\n",
       "    .dataframe tbody tr th:only-of-type {\n",
       "        vertical-align: middle;\n",
       "    }\n",
       "\n",
       "    .dataframe tbody tr th {\n",
       "        vertical-align: top;\n",
       "    }\n",
       "\n",
       "    .dataframe thead th {\n",
       "        text-align: right;\n",
       "    }\n",
       "</style>\n",
       "<table border=\"1\" class=\"dataframe\">\n",
       "  <thead>\n",
       "    <tr style=\"text-align: right;\">\n",
       "      <th></th>\n",
       "      <th>MobileName</th>\n",
       "      <th>RAM_GB</th>\n",
       "      <th>ROM_GB</th>\n",
       "      <th>Ratings</th>\n",
       "      <th>Reviews</th>\n",
       "      <th>Stars</th>\n",
       "      <th>ListPrice</th>\n",
       "      <th>SalesPrice</th>\n",
       "      <th>Color</th>\n",
       "      <th>Brand</th>\n",
       "      <th>Discount</th>\n",
       "    </tr>\n",
       "  </thead>\n",
       "  <tbody>\n",
       "    <tr>\n",
       "      <th>6</th>\n",
       "      <td>Realme 6</td>\n",
       "      <td>6</td>\n",
       "      <td>64</td>\n",
       "      <td>30619</td>\n",
       "      <td>3002</td>\n",
       "      <td>4.4</td>\n",
       "      <td>17999</td>\n",
       "      <td>15999</td>\n",
       "      <td>Comet Blue</td>\n",
       "      <td>0</td>\n",
       "      <td>2000</td>\n",
       "    </tr>\n",
       "    <tr>\n",
       "      <th>8</th>\n",
       "      <td>Realme C11</td>\n",
       "      <td>2</td>\n",
       "      <td>128</td>\n",
       "      <td>17476</td>\n",
       "      <td>1209</td>\n",
       "      <td>4.6</td>\n",
       "      <td>8999</td>\n",
       "      <td>7499</td>\n",
       "      <td>Rich Green</td>\n",
       "      <td>0</td>\n",
       "      <td>1500</td>\n",
       "    </tr>\n",
       "    <tr>\n",
       "      <th>9</th>\n",
       "      <td>Realme C11</td>\n",
       "      <td>2</td>\n",
       "      <td>32</td>\n",
       "      <td>17476</td>\n",
       "      <td>1209</td>\n",
       "      <td>4.6</td>\n",
       "      <td>8999</td>\n",
       "      <td>7499</td>\n",
       "      <td>Rich Grey</td>\n",
       "      <td>0</td>\n",
       "      <td>1500</td>\n",
       "    </tr>\n",
       "    <tr>\n",
       "      <th>10</th>\n",
       "      <td>Realme Narzo 10A</td>\n",
       "      <td>3</td>\n",
       "      <td>32</td>\n",
       "      <td>42968</td>\n",
       "      <td>2926</td>\n",
       "      <td>4.6</td>\n",
       "      <td>9999</td>\n",
       "      <td>8999</td>\n",
       "      <td>So White</td>\n",
       "      <td>0</td>\n",
       "      <td>1000</td>\n",
       "    </tr>\n",
       "    <tr>\n",
       "      <th>11</th>\n",
       "      <td>Realme Narzo 10A</td>\n",
       "      <td>4</td>\n",
       "      <td>64</td>\n",
       "      <td>17313</td>\n",
       "      <td>1129</td>\n",
       "      <td>4.6</td>\n",
       "      <td>10999</td>\n",
       "      <td>9999</td>\n",
       "      <td>So Blue</td>\n",
       "      <td>0</td>\n",
       "      <td>1000</td>\n",
       "    </tr>\n",
       "    <tr>\n",
       "      <th>12</th>\n",
       "      <td>Realme Narzo 10A</td>\n",
       "      <td>4</td>\n",
       "      <td>32</td>\n",
       "      <td>17313</td>\n",
       "      <td>1129</td>\n",
       "      <td>4.6</td>\n",
       "      <td>10999</td>\n",
       "      <td>9999</td>\n",
       "      <td>So White</td>\n",
       "      <td>0</td>\n",
       "      <td>1000</td>\n",
       "    </tr>\n",
       "    <tr>\n",
       "      <th>13</th>\n",
       "      <td>Realme Narzo 10A</td>\n",
       "      <td>3</td>\n",
       "      <td>64</td>\n",
       "      <td>42968</td>\n",
       "      <td>2926</td>\n",
       "      <td>4.6</td>\n",
       "      <td>9999</td>\n",
       "      <td>8999</td>\n",
       "      <td>So Blue</td>\n",
       "      <td>0</td>\n",
       "      <td>1000</td>\n",
       "    </tr>\n",
       "    <tr>\n",
       "      <th>15</th>\n",
       "      <td>Realme 6</td>\n",
       "      <td>6</td>\n",
       "      <td>64</td>\n",
       "      <td>30619</td>\n",
       "      <td>3002</td>\n",
       "      <td>4.4</td>\n",
       "      <td>17999</td>\n",
       "      <td>15999</td>\n",
       "      <td>Comet White</td>\n",
       "      <td>0</td>\n",
       "      <td>2000</td>\n",
       "    </tr>\n",
       "    <tr>\n",
       "      <th>17</th>\n",
       "      <td>Infinix S5 Pro</td>\n",
       "      <td>4</td>\n",
       "      <td>64</td>\n",
       "      <td>12764</td>\n",
       "      <td>1149</td>\n",
       "      <td>4.5</td>\n",
       "      <td>12999</td>\n",
       "      <td>11499</td>\n",
       "      <td>Violet</td>\n",
       "      <td>5</td>\n",
       "      <td>1500</td>\n",
       "    </tr>\n",
       "    <tr>\n",
       "      <th>18</th>\n",
       "      <td>Motorola G8 Power Lite</td>\n",
       "      <td>4</td>\n",
       "      <td>64</td>\n",
       "      <td>27992</td>\n",
       "      <td>2199</td>\n",
       "      <td>4.4</td>\n",
       "      <td>9999</td>\n",
       "      <td>9499</td>\n",
       "      <td>Royal Blue</td>\n",
       "      <td>8</td>\n",
       "      <td>500</td>\n",
       "    </tr>\n",
       "  </tbody>\n",
       "</table>\n",
       "</div>"
      ],
      "text/plain": [
       "                 MobileName  RAM_GB  ROM_GB  Ratings  Reviews  Stars  \\\n",
       "6                 Realme 6        6      64    30619     3002    4.4   \n",
       "8               Realme C11        2     128    17476     1209    4.6   \n",
       "9               Realme C11        2      32    17476     1209    4.6   \n",
       "10        Realme Narzo 10A        3      32    42968     2926    4.6   \n",
       "11        Realme Narzo 10A        4      64    17313     1129    4.6   \n",
       "12        Realme Narzo 10A        4      32    17313     1129    4.6   \n",
       "13        Realme Narzo 10A        3      64    42968     2926    4.6   \n",
       "15                Realme 6        6      64    30619     3002    4.4   \n",
       "17          Infinix S5 Pro        4      64    12764     1149    4.5   \n",
       "18  Motorola G8 Power Lite        4      64    27992     2199    4.4   \n",
       "\n",
       "    ListPrice  SalesPrice        Color  Brand  Discount  \n",
       "6       17999       15999   Comet Blue      0      2000  \n",
       "8        8999        7499   Rich Green      0      1500  \n",
       "9        8999        7499    Rich Grey      0      1500  \n",
       "10       9999        8999     So White      0      1000  \n",
       "11      10999        9999      So Blue      0      1000  \n",
       "12      10999        9999     So White      0      1000  \n",
       "13       9999        8999      So Blue      0      1000  \n",
       "15      17999       15999  Comet White      0      2000  \n",
       "17      12999       11499       Violet      5      1500  \n",
       "18       9999        9499   Royal Blue      8       500  "
      ]
     },
     "execution_count": 35,
     "metadata": {},
     "output_type": "execute_result"
    }
   ],
   "source": [
    "df['Brand'] = df['Brand'].map({'Realme':0,'Vivo':1,'OPPO':2,'I Kall':3,'Redmi':4,\n",
    "                               'Infinix':5,'POCO':7,'Motorola':8,'Tecno':9})   \n",
    "df.head(10)"
   ]
  },
  {
   "cell_type": "markdown",
   "metadata": {},
   "source": [
    "-------------------------------------------------------------------------------------------------------------------------------"
   ]
  },
  {
   "cell_type": "markdown",
   "metadata": {},
   "source": [
    "## Data Modeling"
   ]
  },
  {
   "cell_type": "markdown",
   "metadata": {},
   "source": [
    "-------------------------------------------------------------------------------------------------------------------------------"
   ]
  },
  {
   "cell_type": "markdown",
   "metadata": {},
   "source": [
    "## <li> Model 1"
   ]
  },
  {
   "cell_type": "markdown",
   "metadata": {},
   "source": [
    "We will first build a model that can predict the Sales Price of each phone.\n",
    "For the purpose of Data Modeling we need to split our data into training and test set. Once the split is done we can put our data into various models and check each the precision of each model. We select the model with the highest precision score."
   ]
  },
  {
   "cell_type": "code",
   "execution_count": 36,
   "metadata": {},
   "outputs": [],
   "source": [
    "from sklearn.model_selection import train_test_split \n",
    "from sklearn.metrics import classification_report, confusion_matrix"
   ]
  },
  {
   "cell_type": "code",
   "execution_count": 37,
   "metadata": {},
   "outputs": [
    {
     "data": {
      "text/html": [
       "<div>\n",
       "<style scoped>\n",
       "    .dataframe tbody tr th:only-of-type {\n",
       "        vertical-align: middle;\n",
       "    }\n",
       "\n",
       "    .dataframe tbody tr th {\n",
       "        vertical-align: top;\n",
       "    }\n",
       "\n",
       "    .dataframe thead th {\n",
       "        text-align: right;\n",
       "    }\n",
       "</style>\n",
       "<table border=\"1\" class=\"dataframe\">\n",
       "  <thead>\n",
       "    <tr style=\"text-align: right;\">\n",
       "      <th></th>\n",
       "      <th>RAM_GB</th>\n",
       "      <th>ROM_GB</th>\n",
       "      <th>Ratings</th>\n",
       "      <th>Reviews</th>\n",
       "      <th>Stars</th>\n",
       "      <th>ListPrice</th>\n",
       "      <th>SalesPrice</th>\n",
       "      <th>Brand</th>\n",
       "      <th>Discount</th>\n",
       "    </tr>\n",
       "  </thead>\n",
       "  <tbody>\n",
       "    <tr>\n",
       "      <th>6</th>\n",
       "      <td>6</td>\n",
       "      <td>64</td>\n",
       "      <td>30619</td>\n",
       "      <td>3002</td>\n",
       "      <td>4.4</td>\n",
       "      <td>17999</td>\n",
       "      <td>15999</td>\n",
       "      <td>0</td>\n",
       "      <td>2000</td>\n",
       "    </tr>\n",
       "    <tr>\n",
       "      <th>8</th>\n",
       "      <td>2</td>\n",
       "      <td>128</td>\n",
       "      <td>17476</td>\n",
       "      <td>1209</td>\n",
       "      <td>4.6</td>\n",
       "      <td>8999</td>\n",
       "      <td>7499</td>\n",
       "      <td>0</td>\n",
       "      <td>1500</td>\n",
       "    </tr>\n",
       "    <tr>\n",
       "      <th>9</th>\n",
       "      <td>2</td>\n",
       "      <td>32</td>\n",
       "      <td>17476</td>\n",
       "      <td>1209</td>\n",
       "      <td>4.6</td>\n",
       "      <td>8999</td>\n",
       "      <td>7499</td>\n",
       "      <td>0</td>\n",
       "      <td>1500</td>\n",
       "    </tr>\n",
       "    <tr>\n",
       "      <th>10</th>\n",
       "      <td>3</td>\n",
       "      <td>32</td>\n",
       "      <td>42968</td>\n",
       "      <td>2926</td>\n",
       "      <td>4.6</td>\n",
       "      <td>9999</td>\n",
       "      <td>8999</td>\n",
       "      <td>0</td>\n",
       "      <td>1000</td>\n",
       "    </tr>\n",
       "    <tr>\n",
       "      <th>11</th>\n",
       "      <td>4</td>\n",
       "      <td>64</td>\n",
       "      <td>17313</td>\n",
       "      <td>1129</td>\n",
       "      <td>4.6</td>\n",
       "      <td>10999</td>\n",
       "      <td>9999</td>\n",
       "      <td>0</td>\n",
       "      <td>1000</td>\n",
       "    </tr>\n",
       "  </tbody>\n",
       "</table>\n",
       "</div>"
      ],
      "text/plain": [
       "    RAM_GB  ROM_GB  Ratings  Reviews  Stars  ListPrice  SalesPrice  Brand  \\\n",
       "6        6      64    30619     3002    4.4      17999       15999      0   \n",
       "8        2     128    17476     1209    4.6       8999        7499      0   \n",
       "9        2      32    17476     1209    4.6       8999        7499      0   \n",
       "10       3      32    42968     2926    4.6       9999        8999      0   \n",
       "11       4      64    17313     1129    4.6      10999        9999      0   \n",
       "\n",
       "    Discount  \n",
       "6       2000  \n",
       "8       1500  \n",
       "9       1500  \n",
       "10      1000  \n",
       "11      1000  "
      ]
     },
     "execution_count": 37,
     "metadata": {},
     "output_type": "execute_result"
    }
   ],
   "source": [
    "dfnumberic = df.select_dtypes(include=[np.number])\n",
    "dfnumberic.head()"
   ]
  },
  {
   "cell_type": "code",
   "execution_count": 38,
   "metadata": {},
   "outputs": [
    {
     "name": "stdout",
     "output_type": "stream",
     "text": [
      "Shape of the numberic data frame\n",
      "(81, 9)\n"
     ]
    }
   ],
   "source": [
    "print(\"Shape of the numberic data frame\")\n",
    "print(dfnumberic.shape)"
   ]
  },
  {
   "cell_type": "code",
   "execution_count": 39,
   "metadata": {},
   "outputs": [],
   "source": [
    "X = dfnumberic.drop('SalesPrice',axis=1)\n",
    "y = dfnumberic['SalesPrice']\n",
    "\n",
    "X_train, X_test, y_train, y_test = train_test_split(X, y, test_size=0.30, random_state=101)"
   ]
  },
  {
   "cell_type": "markdown",
   "metadata": {},
   "source": [
    "## 1. Linear Regression"
   ]
  },
  {
   "cell_type": "code",
   "execution_count": 40,
   "metadata": {},
   "outputs": [],
   "source": [
    "from sklearn.linear_model import LinearRegression"
   ]
  },
  {
   "cell_type": "code",
   "execution_count": 41,
   "metadata": {},
   "outputs": [
    {
     "data": {
      "text/plain": [
       "LinearRegression(copy_X=True, fit_intercept=True, n_jobs=None, normalize=False)"
      ]
     },
     "execution_count": 41,
     "metadata": {},
     "output_type": "execute_result"
    }
   ],
   "source": [
    "lrm = LinearRegression()\n",
    "lrm.fit(X_train,y_train)"
   ]
  },
  {
   "cell_type": "code",
   "execution_count": 42,
   "metadata": {},
   "outputs": [],
   "source": [
    "predictionslrm = lrm.predict(X_test)"
   ]
  },
  {
   "cell_type": "code",
   "execution_count": 43,
   "metadata": {},
   "outputs": [
    {
     "name": "stdout",
     "output_type": "stream",
     "text": [
      "Model Score: 100.0 %\n"
     ]
    }
   ],
   "source": [
    "scorelrm = round((lrm.score(X_test, y_test)*100),2)\n",
    "print (\"Model Score:\",scorelrm,\"%\")"
   ]
  },
  {
   "cell_type": "markdown",
   "metadata": {},
   "source": [
    "## 2. Ridge Regression"
   ]
  },
  {
   "cell_type": "code",
   "execution_count": 44,
   "metadata": {},
   "outputs": [],
   "source": [
    "from sklearn.linear_model import Ridge"
   ]
  },
  {
   "cell_type": "code",
   "execution_count": 45,
   "metadata": {},
   "outputs": [
    {
     "data": {
      "text/plain": [
       "Ridge(alpha=100, copy_X=True, fit_intercept=True, max_iter=None,\n",
       "      normalize=False, random_state=None, solver='auto', tol=0.001)"
      ]
     },
     "execution_count": 45,
     "metadata": {},
     "output_type": "execute_result"
    }
   ],
   "source": [
    "rrm = Ridge(alpha=100)\n",
    "rrm.fit(X_train,y_train)"
   ]
  },
  {
   "cell_type": "code",
   "execution_count": 46,
   "metadata": {},
   "outputs": [],
   "source": [
    "predictionrrm = rrm.predict(X_test)"
   ]
  },
  {
   "cell_type": "code",
   "execution_count": 47,
   "metadata": {},
   "outputs": [
    {
     "name": "stdout",
     "output_type": "stream",
     "text": [
      "Model Score: 100.0 %\n"
     ]
    }
   ],
   "source": [
    "scorerrm = round((rrm.score(X_test, y_test)*100),2)\n",
    "print (\"Model Score:\",scorerrm,\"%\")"
   ]
  },
  {
   "cell_type": "code",
   "execution_count": 48,
   "metadata": {},
   "outputs": [
    {
     "data": {
      "text/html": [
       "<div>\n",
       "<style scoped>\n",
       "    .dataframe tbody tr th:only-of-type {\n",
       "        vertical-align: middle;\n",
       "    }\n",
       "\n",
       "    .dataframe tbody tr th {\n",
       "        vertical-align: top;\n",
       "    }\n",
       "\n",
       "    .dataframe thead th {\n",
       "        text-align: right;\n",
       "    }\n",
       "</style>\n",
       "<table border=\"1\" class=\"dataframe\">\n",
       "  <thead>\n",
       "    <tr style=\"text-align: right;\">\n",
       "      <th></th>\n",
       "      <th>Algorithm</th>\n",
       "      <th>Precision</th>\n",
       "    </tr>\n",
       "  </thead>\n",
       "  <tbody>\n",
       "    <tr>\n",
       "      <th>1</th>\n",
       "      <td>Linear Regression</td>\n",
       "      <td>100.0</td>\n",
       "    </tr>\n",
       "    <tr>\n",
       "      <th>2</th>\n",
       "      <td>Ridge Regression</td>\n",
       "      <td>100.0</td>\n",
       "    </tr>\n",
       "  </tbody>\n",
       "</table>\n",
       "</div>"
      ],
      "text/plain": [
       "           Algorithm  Precision\n",
       "1  Linear Regression      100.0\n",
       "2   Ridge Regression      100.0"
      ]
     },
     "execution_count": 48,
     "metadata": {},
     "output_type": "execute_result"
    }
   ],
   "source": [
    "data = [['Linear Regression',scorelrm],['Ridge Regression',scorerrm]]\n",
    "final = pd.DataFrame(data,columns=['Algorithm','Precision'],index=[1,2])\n",
    "final"
   ]
  },
  {
   "cell_type": "markdown",
   "metadata": {},
   "source": [
    "We see that both our models are able to perfectly predict the price of the phone but in reality, this would not be completely possible. This result of a perfect score is caused because of overfitting, due to the small amount of data.  "
   ]
  },
  {
   "cell_type": "markdown",
   "metadata": {},
   "source": [
    "------------------------------------------------------------------------------------------------------------------------------"
   ]
  },
  {
   "cell_type": "markdown",
   "metadata": {},
   "source": [
    "## <li> Model 2"
   ]
  },
  {
   "cell_type": "code",
   "execution_count": 49,
   "metadata": {},
   "outputs": [
    {
     "data": {
      "text/html": [
       "<div>\n",
       "<style scoped>\n",
       "    .dataframe tbody tr th:only-of-type {\n",
       "        vertical-align: middle;\n",
       "    }\n",
       "\n",
       "    .dataframe tbody tr th {\n",
       "        vertical-align: top;\n",
       "    }\n",
       "\n",
       "    .dataframe thead th {\n",
       "        text-align: right;\n",
       "    }\n",
       "</style>\n",
       "<table border=\"1\" class=\"dataframe\">\n",
       "  <thead>\n",
       "    <tr style=\"text-align: right;\">\n",
       "      <th></th>\n",
       "      <th>MobileName</th>\n",
       "      <th>RAM_GB</th>\n",
       "      <th>ROM_GB</th>\n",
       "      <th>Ratings</th>\n",
       "      <th>Reviews</th>\n",
       "      <th>Stars</th>\n",
       "      <th>ListPrice</th>\n",
       "      <th>SalesPrice</th>\n",
       "      <th>Color</th>\n",
       "      <th>Brand</th>\n",
       "      <th>Discount</th>\n",
       "    </tr>\n",
       "  </thead>\n",
       "  <tbody>\n",
       "    <tr>\n",
       "      <th>6</th>\n",
       "      <td>Realme 6</td>\n",
       "      <td>6</td>\n",
       "      <td>64</td>\n",
       "      <td>30619</td>\n",
       "      <td>3002</td>\n",
       "      <td>4.4</td>\n",
       "      <td>17999</td>\n",
       "      <td>15999</td>\n",
       "      <td>Comet Blue</td>\n",
       "      <td>0</td>\n",
       "      <td>2000</td>\n",
       "    </tr>\n",
       "    <tr>\n",
       "      <th>8</th>\n",
       "      <td>Realme C11</td>\n",
       "      <td>2</td>\n",
       "      <td>128</td>\n",
       "      <td>17476</td>\n",
       "      <td>1209</td>\n",
       "      <td>4.6</td>\n",
       "      <td>8999</td>\n",
       "      <td>7499</td>\n",
       "      <td>Rich Green</td>\n",
       "      <td>0</td>\n",
       "      <td>1500</td>\n",
       "    </tr>\n",
       "    <tr>\n",
       "      <th>9</th>\n",
       "      <td>Realme C11</td>\n",
       "      <td>2</td>\n",
       "      <td>32</td>\n",
       "      <td>17476</td>\n",
       "      <td>1209</td>\n",
       "      <td>4.6</td>\n",
       "      <td>8999</td>\n",
       "      <td>7499</td>\n",
       "      <td>Rich Grey</td>\n",
       "      <td>0</td>\n",
       "      <td>1500</td>\n",
       "    </tr>\n",
       "    <tr>\n",
       "      <th>10</th>\n",
       "      <td>Realme Narzo 10A</td>\n",
       "      <td>3</td>\n",
       "      <td>32</td>\n",
       "      <td>42968</td>\n",
       "      <td>2926</td>\n",
       "      <td>4.6</td>\n",
       "      <td>9999</td>\n",
       "      <td>8999</td>\n",
       "      <td>So White</td>\n",
       "      <td>0</td>\n",
       "      <td>1000</td>\n",
       "    </tr>\n",
       "    <tr>\n",
       "      <th>11</th>\n",
       "      <td>Realme Narzo 10A</td>\n",
       "      <td>4</td>\n",
       "      <td>64</td>\n",
       "      <td>17313</td>\n",
       "      <td>1129</td>\n",
       "      <td>4.6</td>\n",
       "      <td>10999</td>\n",
       "      <td>9999</td>\n",
       "      <td>So Blue</td>\n",
       "      <td>0</td>\n",
       "      <td>1000</td>\n",
       "    </tr>\n",
       "  </tbody>\n",
       "</table>\n",
       "</div>"
      ],
      "text/plain": [
       "           MobileName  RAM_GB  ROM_GB  Ratings  Reviews  Stars  ListPrice  \\\n",
       "6           Realme 6        6      64    30619     3002    4.4      17999   \n",
       "8         Realme C11        2     128    17476     1209    4.6       8999   \n",
       "9         Realme C11        2      32    17476     1209    4.6       8999   \n",
       "10  Realme Narzo 10A        3      32    42968     2926    4.6       9999   \n",
       "11  Realme Narzo 10A        4      64    17313     1129    4.6      10999   \n",
       "\n",
       "    SalesPrice       Color  Brand  Discount  \n",
       "6        15999  Comet Blue      0      2000  \n",
       "8         7499  Rich Green      0      1500  \n",
       "9         7499   Rich Grey      0      1500  \n",
       "10        8999    So White      0      1000  \n",
       "11        9999     So Blue      0      1000  "
      ]
     },
     "execution_count": 49,
     "metadata": {},
     "output_type": "execute_result"
    }
   ],
   "source": [
    "df.head()"
   ]
  },
  {
   "cell_type": "markdown",
   "metadata": {},
   "source": [
    "We now create an attribute that suggests which phone is suitable for what kind of a person. For this, we will use only 3 attributes from the data frame (df) they are RAM_GB, ROM_GB, and SalePrice."
   ]
  },
  {
   "cell_type": "code",
   "execution_count": 50,
   "metadata": {},
   "outputs": [],
   "source": [
    "df['UserType'] = 'Teen'\n",
    "high = df[(df['RAM_GB'] > 4) & (df['ROM_GB'] > 32)].index\n",
    "low =  df[(df['SalesPrice'] < 12000) & (df['ROM_GB'] < 64)].index"
   ]
  },
  {
   "cell_type": "code",
   "execution_count": 51,
   "metadata": {},
   "outputs": [
    {
     "name": "stderr",
     "output_type": "stream",
     "text": [
      "C:\\Users\\Ginelle\\Anaconda3\\lib\\site-packages\\pandas\\core\\indexing.py:190: SettingWithCopyWarning: \n",
      "A value is trying to be set on a copy of a slice from a DataFrame\n",
      "\n",
      "See the caveats in the documentation: http://pandas.pydata.org/pandas-docs/stable/indexing.html#indexing-view-versus-copy\n",
      "  self._setitem_with_indexer(indexer, value)\n"
     ]
    }
   ],
   "source": [
    "for i in high:\n",
    "    df['UserType'].loc[i] = 'High'\n",
    "for i in low:\n",
    "    if i not in high:\n",
    "        df['UserType'].loc[i] = 'Low'"
   ]
  },
  {
   "cell_type": "code",
   "execution_count": 52,
   "metadata": {},
   "outputs": [
    {
     "data": {
      "text/plain": [
       "Teen    43\n",
       "High    20\n",
       "Low     18\n",
       "Name: UserType, dtype: int64"
      ]
     },
     "execution_count": 52,
     "metadata": {},
     "output_type": "execute_result"
    }
   ],
   "source": [
    "df['UserType'].value_counts()"
   ]
  },
  {
   "cell_type": "code",
   "execution_count": 53,
   "metadata": {},
   "outputs": [
    {
     "data": {
      "text/html": [
       "<div>\n",
       "<style scoped>\n",
       "    .dataframe tbody tr th:only-of-type {\n",
       "        vertical-align: middle;\n",
       "    }\n",
       "\n",
       "    .dataframe tbody tr th {\n",
       "        vertical-align: top;\n",
       "    }\n",
       "\n",
       "    .dataframe thead th {\n",
       "        text-align: right;\n",
       "    }\n",
       "</style>\n",
       "<table border=\"1\" class=\"dataframe\">\n",
       "  <thead>\n",
       "    <tr style=\"text-align: right;\">\n",
       "      <th></th>\n",
       "      <th>MobileName</th>\n",
       "      <th>RAM_GB</th>\n",
       "      <th>ROM_GB</th>\n",
       "      <th>Ratings</th>\n",
       "      <th>Reviews</th>\n",
       "      <th>Stars</th>\n",
       "      <th>ListPrice</th>\n",
       "      <th>SalesPrice</th>\n",
       "      <th>Color</th>\n",
       "      <th>Brand</th>\n",
       "      <th>Discount</th>\n",
       "      <th>UserType</th>\n",
       "    </tr>\n",
       "  </thead>\n",
       "  <tbody>\n",
       "    <tr>\n",
       "      <th>6</th>\n",
       "      <td>Realme 6</td>\n",
       "      <td>6</td>\n",
       "      <td>64</td>\n",
       "      <td>30619</td>\n",
       "      <td>3002</td>\n",
       "      <td>4.4</td>\n",
       "      <td>17999</td>\n",
       "      <td>15999</td>\n",
       "      <td>Comet Blue</td>\n",
       "      <td>0</td>\n",
       "      <td>2000</td>\n",
       "      <td>High</td>\n",
       "    </tr>\n",
       "    <tr>\n",
       "      <th>8</th>\n",
       "      <td>Realme C11</td>\n",
       "      <td>2</td>\n",
       "      <td>128</td>\n",
       "      <td>17476</td>\n",
       "      <td>1209</td>\n",
       "      <td>4.6</td>\n",
       "      <td>8999</td>\n",
       "      <td>7499</td>\n",
       "      <td>Rich Green</td>\n",
       "      <td>0</td>\n",
       "      <td>1500</td>\n",
       "      <td>Teen</td>\n",
       "    </tr>\n",
       "    <tr>\n",
       "      <th>9</th>\n",
       "      <td>Realme C11</td>\n",
       "      <td>2</td>\n",
       "      <td>32</td>\n",
       "      <td>17476</td>\n",
       "      <td>1209</td>\n",
       "      <td>4.6</td>\n",
       "      <td>8999</td>\n",
       "      <td>7499</td>\n",
       "      <td>Rich Grey</td>\n",
       "      <td>0</td>\n",
       "      <td>1500</td>\n",
       "      <td>Low</td>\n",
       "    </tr>\n",
       "    <tr>\n",
       "      <th>10</th>\n",
       "      <td>Realme Narzo 10A</td>\n",
       "      <td>3</td>\n",
       "      <td>32</td>\n",
       "      <td>42968</td>\n",
       "      <td>2926</td>\n",
       "      <td>4.6</td>\n",
       "      <td>9999</td>\n",
       "      <td>8999</td>\n",
       "      <td>So White</td>\n",
       "      <td>0</td>\n",
       "      <td>1000</td>\n",
       "      <td>Low</td>\n",
       "    </tr>\n",
       "    <tr>\n",
       "      <th>11</th>\n",
       "      <td>Realme Narzo 10A</td>\n",
       "      <td>4</td>\n",
       "      <td>64</td>\n",
       "      <td>17313</td>\n",
       "      <td>1129</td>\n",
       "      <td>4.6</td>\n",
       "      <td>10999</td>\n",
       "      <td>9999</td>\n",
       "      <td>So Blue</td>\n",
       "      <td>0</td>\n",
       "      <td>1000</td>\n",
       "      <td>Teen</td>\n",
       "    </tr>\n",
       "  </tbody>\n",
       "</table>\n",
       "</div>"
      ],
      "text/plain": [
       "           MobileName  RAM_GB  ROM_GB  Ratings  Reviews  Stars  ListPrice  \\\n",
       "6           Realme 6        6      64    30619     3002    4.4      17999   \n",
       "8         Realme C11        2     128    17476     1209    4.6       8999   \n",
       "9         Realme C11        2      32    17476     1209    4.6       8999   \n",
       "10  Realme Narzo 10A        3      32    42968     2926    4.6       9999   \n",
       "11  Realme Narzo 10A        4      64    17313     1129    4.6      10999   \n",
       "\n",
       "    SalesPrice       Color  Brand  Discount UserType  \n",
       "6        15999  Comet Blue      0      2000     High  \n",
       "8         7499  Rich Green      0      1500     Teen  \n",
       "9         7499   Rich Grey      0      1500      Low  \n",
       "10        8999    So White      0      1000      Low  \n",
       "11        9999     So Blue      0      1000     Teen  "
      ]
     },
     "execution_count": 53,
     "metadata": {},
     "output_type": "execute_result"
    }
   ],
   "source": [
    "df.head()"
   ]
  },
  {
   "cell_type": "code",
   "execution_count": 54,
   "metadata": {},
   "outputs": [],
   "source": [
    "df['UserType'] = df['UserType'].map({'High':0,'Teen':1,'Low':2})"
   ]
  },
  {
   "cell_type": "code",
   "execution_count": 55,
   "metadata": {},
   "outputs": [
    {
     "data": {
      "text/html": [
       "<div>\n",
       "<style scoped>\n",
       "    .dataframe tbody tr th:only-of-type {\n",
       "        vertical-align: middle;\n",
       "    }\n",
       "\n",
       "    .dataframe tbody tr th {\n",
       "        vertical-align: top;\n",
       "    }\n",
       "\n",
       "    .dataframe thead th {\n",
       "        text-align: right;\n",
       "    }\n",
       "</style>\n",
       "<table border=\"1\" class=\"dataframe\">\n",
       "  <thead>\n",
       "    <tr style=\"text-align: right;\">\n",
       "      <th></th>\n",
       "      <th>RAM_GB</th>\n",
       "      <th>ROM_GB</th>\n",
       "      <th>Ratings</th>\n",
       "      <th>Reviews</th>\n",
       "      <th>Stars</th>\n",
       "      <th>SalesPrice</th>\n",
       "      <th>Brand</th>\n",
       "      <th>Discount</th>\n",
       "      <th>UserType</th>\n",
       "    </tr>\n",
       "  </thead>\n",
       "  <tbody>\n",
       "    <tr>\n",
       "      <th>6</th>\n",
       "      <td>6</td>\n",
       "      <td>64</td>\n",
       "      <td>30619</td>\n",
       "      <td>3002</td>\n",
       "      <td>4.4</td>\n",
       "      <td>15999</td>\n",
       "      <td>0</td>\n",
       "      <td>2000</td>\n",
       "      <td>0</td>\n",
       "    </tr>\n",
       "    <tr>\n",
       "      <th>8</th>\n",
       "      <td>2</td>\n",
       "      <td>128</td>\n",
       "      <td>17476</td>\n",
       "      <td>1209</td>\n",
       "      <td>4.6</td>\n",
       "      <td>7499</td>\n",
       "      <td>0</td>\n",
       "      <td>1500</td>\n",
       "      <td>1</td>\n",
       "    </tr>\n",
       "    <tr>\n",
       "      <th>9</th>\n",
       "      <td>2</td>\n",
       "      <td>32</td>\n",
       "      <td>17476</td>\n",
       "      <td>1209</td>\n",
       "      <td>4.6</td>\n",
       "      <td>7499</td>\n",
       "      <td>0</td>\n",
       "      <td>1500</td>\n",
       "      <td>2</td>\n",
       "    </tr>\n",
       "    <tr>\n",
       "      <th>10</th>\n",
       "      <td>3</td>\n",
       "      <td>32</td>\n",
       "      <td>42968</td>\n",
       "      <td>2926</td>\n",
       "      <td>4.6</td>\n",
       "      <td>8999</td>\n",
       "      <td>0</td>\n",
       "      <td>1000</td>\n",
       "      <td>2</td>\n",
       "    </tr>\n",
       "    <tr>\n",
       "      <th>11</th>\n",
       "      <td>4</td>\n",
       "      <td>64</td>\n",
       "      <td>17313</td>\n",
       "      <td>1129</td>\n",
       "      <td>4.6</td>\n",
       "      <td>9999</td>\n",
       "      <td>0</td>\n",
       "      <td>1000</td>\n",
       "      <td>1</td>\n",
       "    </tr>\n",
       "  </tbody>\n",
       "</table>\n",
       "</div>"
      ],
      "text/plain": [
       "    RAM_GB  ROM_GB  Ratings  Reviews  Stars  SalesPrice  Brand  Discount  \\\n",
       "6        6      64    30619     3002    4.4       15999      0      2000   \n",
       "8        2     128    17476     1209    4.6        7499      0      1500   \n",
       "9        2      32    17476     1209    4.6        7499      0      1500   \n",
       "10       3      32    42968     2926    4.6        8999      0      1000   \n",
       "11       4      64    17313     1129    4.6        9999      0      1000   \n",
       "\n",
       "    UserType  \n",
       "6          0  \n",
       "8          1  \n",
       "9          2  \n",
       "10         2  \n",
       "11         1  "
      ]
     },
     "execution_count": 55,
     "metadata": {},
     "output_type": "execute_result"
    }
   ],
   "source": [
    "dfnumberic = df.select_dtypes(include=[np.number]).drop('ListPrice', axis=1)\n",
    "dfnumberic.head()"
   ]
  },
  {
   "cell_type": "code",
   "execution_count": 56,
   "metadata": {},
   "outputs": [
    {
     "data": {
      "text/html": [
       "<div>\n",
       "<style scoped>\n",
       "    .dataframe tbody tr th:only-of-type {\n",
       "        vertical-align: middle;\n",
       "    }\n",
       "\n",
       "    .dataframe tbody tr th {\n",
       "        vertical-align: top;\n",
       "    }\n",
       "\n",
       "    .dataframe thead th {\n",
       "        text-align: right;\n",
       "    }\n",
       "</style>\n",
       "<table border=\"1\" class=\"dataframe\">\n",
       "  <thead>\n",
       "    <tr style=\"text-align: right;\">\n",
       "      <th></th>\n",
       "      <th>Ratings</th>\n",
       "      <th>Reviews</th>\n",
       "      <th>Stars</th>\n",
       "      <th>SalesPrice</th>\n",
       "      <th>Discount</th>\n",
       "    </tr>\n",
       "  </thead>\n",
       "  <tbody>\n",
       "    <tr>\n",
       "      <th>count</th>\n",
       "      <td>81.000000</td>\n",
       "      <td>81.000000</td>\n",
       "      <td>81.000000</td>\n",
       "      <td>81.000000</td>\n",
       "      <td>81.000000</td>\n",
       "    </tr>\n",
       "    <tr>\n",
       "      <th>mean</th>\n",
       "      <td>15206.407407</td>\n",
       "      <td>1292.790123</td>\n",
       "      <td>4.174074</td>\n",
       "      <td>11985.950617</td>\n",
       "      <td>1510.604938</td>\n",
       "    </tr>\n",
       "    <tr>\n",
       "      <th>std</th>\n",
       "      <td>14608.616686</td>\n",
       "      <td>1291.768330</td>\n",
       "      <td>0.525066</td>\n",
       "      <td>4290.914617</td>\n",
       "      <td>1711.067179</td>\n",
       "    </tr>\n",
       "    <tr>\n",
       "      <th>min</th>\n",
       "      <td>53.000000</td>\n",
       "      <td>3.000000</td>\n",
       "      <td>2.800000</td>\n",
       "      <td>5499.000000</td>\n",
       "      <td>0.000000</td>\n",
       "    </tr>\n",
       "    <tr>\n",
       "      <th>25%</th>\n",
       "      <td>974.000000</td>\n",
       "      <td>111.000000</td>\n",
       "      <td>4.300000</td>\n",
       "      <td>8249.000000</td>\n",
       "      <td>0.000000</td>\n",
       "    </tr>\n",
       "    <tr>\n",
       "      <th>50%</th>\n",
       "      <td>11571.000000</td>\n",
       "      <td>977.000000</td>\n",
       "      <td>4.400000</td>\n",
       "      <td>10990.000000</td>\n",
       "      <td>1000.000000</td>\n",
       "    </tr>\n",
       "    <tr>\n",
       "      <th>75%</th>\n",
       "      <td>27363.000000</td>\n",
       "      <td>2199.000000</td>\n",
       "      <td>4.400000</td>\n",
       "      <td>15990.000000</td>\n",
       "      <td>2000.000000</td>\n",
       "    </tr>\n",
       "    <tr>\n",
       "      <th>max</th>\n",
       "      <td>55815.000000</td>\n",
       "      <td>4824.000000</td>\n",
       "      <td>4.600000</td>\n",
       "      <td>21499.000000</td>\n",
       "      <td>6000.000000</td>\n",
       "    </tr>\n",
       "  </tbody>\n",
       "</table>\n",
       "</div>"
      ],
      "text/plain": [
       "            Ratings      Reviews      Stars    SalesPrice     Discount\n",
       "count     81.000000    81.000000  81.000000     81.000000    81.000000\n",
       "mean   15206.407407  1292.790123   4.174074  11985.950617  1510.604938\n",
       "std    14608.616686  1291.768330   0.525066   4290.914617  1711.067179\n",
       "min       53.000000     3.000000   2.800000   5499.000000     0.000000\n",
       "25%      974.000000   111.000000   4.300000   8249.000000     0.000000\n",
       "50%    11571.000000   977.000000   4.400000  10990.000000  1000.000000\n",
       "75%    27363.000000  2199.000000   4.400000  15990.000000  2000.000000\n",
       "max    55815.000000  4824.000000   4.600000  21499.000000  6000.000000"
      ]
     },
     "execution_count": 56,
     "metadata": {},
     "output_type": "execute_result"
    }
   ],
   "source": [
    "dfnumberic[['Ratings','Reviews','Stars','SalesPrice','Discount']].describe()"
   ]
  },
  {
   "cell_type": "code",
   "execution_count": 57,
   "metadata": {},
   "outputs": [],
   "source": [
    "def ratings(num):\n",
    "    if num < 10000:\n",
    "        return 1\n",
    "    elif num >= 10000 & num < 20000:\n",
    "        return 2\n",
    "    elif num >= 20000 & num < 30000:\n",
    "        return 3\n",
    "    elif num >= 30000 & num < 40000:\n",
    "        return 4\n",
    "    elif num >= 40000 & num < 50000:\n",
    "        return 5\n",
    "    else:\n",
    "        return 6\n",
    "    \n",
    "    \n",
    "def reviews(num):\n",
    "    if num < 1000:\n",
    "        return 1\n",
    "    elif num >= 1000 & num < 2000:\n",
    "        return 2\n",
    "    elif num >= 2000 & num < 3000:\n",
    "        return 3\n",
    "    elif num >= 3000 & num < 4000:\n",
    "        return 4\n",
    "    else:\n",
    "        return 5\n",
    "\n",
    "    \n",
    "\n",
    "def salesprice(num):\n",
    "    if num < 5000:\n",
    "        return 1\n",
    "    elif num >= 5000 & num < 10000:\n",
    "        return 2\n",
    "    elif num >= 10000 & num < 15000:\n",
    "        return 3\n",
    "    elif num >= 15000 & num < 20000:\n",
    "        return 4\n",
    "    else:\n",
    "        return 5\n",
    "    \n",
    "def stars(num):\n",
    "    if num < 3.0:\n",
    "        return 1\n",
    "    elif num >= 3 and num < 3.5:\n",
    "        return 2\n",
    "    elif num >= 3.5 and num < 4.0:\n",
    "        return 3\n",
    "    elif num >= 4.0 and num < 4.5:\n",
    "        return 4\n",
    "    else:\n",
    "        return 5\n",
    "\n",
    "\n",
    "def discount(num):\n",
    "    if num == 0:\n",
    "        return 0\n",
    "    elif num < 1200:\n",
    "        return 1\n",
    "    elif num >= 1200 & num < 2400:\n",
    "        return 2\n",
    "    elif num >= 2400 & num < 3600:\n",
    "        return 3\n",
    "    elif num >= 4800 & num < 6000:\n",
    "        return 4\n",
    "    else:\n",
    "        return 5"
   ]
  },
  {
   "cell_type": "code",
   "execution_count": 58,
   "metadata": {},
   "outputs": [],
   "source": [
    "dfnumberic['Ratings'] = dfnumberic['Ratings'].apply(ratings)\n",
    "dfnumberic['Reviews'] = dfnumberic['Reviews'].apply(reviews)\n",
    "dfnumberic['Stars'] = dfnumberic['Stars'].apply(stars)\n",
    "dfnumberic['SalesPrice'] = dfnumberic['SalesPrice'].apply(salesprice)\n",
    "dfnumberic['Discount'] = dfnumberic['Discount'].apply(discount)"
   ]
  },
  {
   "cell_type": "code",
   "execution_count": 59,
   "metadata": {},
   "outputs": [
    {
     "data": {
      "text/html": [
       "<div>\n",
       "<style scoped>\n",
       "    .dataframe tbody tr th:only-of-type {\n",
       "        vertical-align: middle;\n",
       "    }\n",
       "\n",
       "    .dataframe tbody tr th {\n",
       "        vertical-align: top;\n",
       "    }\n",
       "\n",
       "    .dataframe thead th {\n",
       "        text-align: right;\n",
       "    }\n",
       "</style>\n",
       "<table border=\"1\" class=\"dataframe\">\n",
       "  <thead>\n",
       "    <tr style=\"text-align: right;\">\n",
       "      <th></th>\n",
       "      <th>RAM_GB</th>\n",
       "      <th>ROM_GB</th>\n",
       "      <th>Ratings</th>\n",
       "      <th>Reviews</th>\n",
       "      <th>Stars</th>\n",
       "      <th>SalesPrice</th>\n",
       "      <th>Brand</th>\n",
       "      <th>Discount</th>\n",
       "      <th>UserType</th>\n",
       "    </tr>\n",
       "  </thead>\n",
       "  <tbody>\n",
       "    <tr>\n",
       "      <th>6</th>\n",
       "      <td>6</td>\n",
       "      <td>64</td>\n",
       "      <td>2</td>\n",
       "      <td>2</td>\n",
       "      <td>4</td>\n",
       "      <td>2</td>\n",
       "      <td>0</td>\n",
       "      <td>2</td>\n",
       "      <td>0</td>\n",
       "    </tr>\n",
       "    <tr>\n",
       "      <th>8</th>\n",
       "      <td>2</td>\n",
       "      <td>128</td>\n",
       "      <td>2</td>\n",
       "      <td>2</td>\n",
       "      <td>5</td>\n",
       "      <td>2</td>\n",
       "      <td>0</td>\n",
       "      <td>2</td>\n",
       "      <td>1</td>\n",
       "    </tr>\n",
       "    <tr>\n",
       "      <th>9</th>\n",
       "      <td>2</td>\n",
       "      <td>32</td>\n",
       "      <td>2</td>\n",
       "      <td>2</td>\n",
       "      <td>5</td>\n",
       "      <td>2</td>\n",
       "      <td>0</td>\n",
       "      <td>2</td>\n",
       "      <td>2</td>\n",
       "    </tr>\n",
       "    <tr>\n",
       "      <th>10</th>\n",
       "      <td>3</td>\n",
       "      <td>32</td>\n",
       "      <td>2</td>\n",
       "      <td>2</td>\n",
       "      <td>5</td>\n",
       "      <td>2</td>\n",
       "      <td>0</td>\n",
       "      <td>1</td>\n",
       "      <td>2</td>\n",
       "    </tr>\n",
       "    <tr>\n",
       "      <th>11</th>\n",
       "      <td>4</td>\n",
       "      <td>64</td>\n",
       "      <td>2</td>\n",
       "      <td>2</td>\n",
       "      <td>5</td>\n",
       "      <td>2</td>\n",
       "      <td>0</td>\n",
       "      <td>1</td>\n",
       "      <td>1</td>\n",
       "    </tr>\n",
       "  </tbody>\n",
       "</table>\n",
       "</div>"
      ],
      "text/plain": [
       "    RAM_GB  ROM_GB  Ratings  Reviews  Stars  SalesPrice  Brand  Discount  \\\n",
       "6        6      64        2        2      4           2      0         2   \n",
       "8        2     128        2        2      5           2      0         2   \n",
       "9        2      32        2        2      5           2      0         2   \n",
       "10       3      32        2        2      5           2      0         1   \n",
       "11       4      64        2        2      5           2      0         1   \n",
       "\n",
       "    UserType  \n",
       "6          0  \n",
       "8          1  \n",
       "9          2  \n",
       "10         2  \n",
       "11         1  "
      ]
     },
     "execution_count": 59,
     "metadata": {},
     "output_type": "execute_result"
    }
   ],
   "source": [
    "dfnumberic.head()"
   ]
  },
  {
   "cell_type": "code",
   "execution_count": 60,
   "metadata": {},
   "outputs": [],
   "source": [
    "X = dfnumberic.drop(['UserType'],axis=1)\n",
    "y = dfnumberic['UserType']\n",
    "\n",
    "X_train, X_test, y_train, y_test = train_test_split(X, y, test_size=0.30, random_state=101)"
   ]
  },
  {
   "cell_type": "markdown",
   "metadata": {},
   "source": [
    "## 1. Random Forest"
   ]
  },
  {
   "cell_type": "code",
   "execution_count": 61,
   "metadata": {},
   "outputs": [],
   "source": [
    "from sklearn.ensemble import RandomForestClassifier"
   ]
  },
  {
   "cell_type": "code",
   "execution_count": 62,
   "metadata": {},
   "outputs": [
    {
     "data": {
      "text/plain": [
       "RandomForestClassifier(bootstrap=True, class_weight=None, criterion='gini',\n",
       "                       max_depth=None, max_features='auto', max_leaf_nodes=None,\n",
       "                       min_impurity_decrease=0.0, min_impurity_split=None,\n",
       "                       min_samples_leaf=1, min_samples_split=2,\n",
       "                       min_weight_fraction_leaf=0.0, n_estimators=100,\n",
       "                       n_jobs=None, oob_score=False, random_state=None,\n",
       "                       verbose=0, warm_start=False)"
      ]
     },
     "execution_count": 62,
     "metadata": {},
     "output_type": "execute_result"
    }
   ],
   "source": [
    "rmodel = RandomForestClassifier(n_estimators=100)\n",
    "rmodel.fit(X_train,y_train)"
   ]
  },
  {
   "cell_type": "code",
   "execution_count": 63,
   "metadata": {},
   "outputs": [
    {
     "name": "stdout",
     "output_type": "stream",
     "text": [
      "Confusion Matrix\n",
      "[[ 3  0  0]\n",
      " [ 0 13  1]\n",
      " [ 0  0  8]]\n",
      "\n",
      "Model Score: 96.0 %\n"
     ]
    }
   ],
   "source": [
    "rprediction = rmodel.predict(X_test)\n",
    "print(\"Confusion Matrix\")\n",
    "print(confusion_matrix(y_test,rprediction))\n",
    "\n",
    "rscore = round((rmodel.score(X_test, y_test)*100),2)\n",
    "print (\"\\nModel Score:\",rscore,\"%\")"
   ]
  },
  {
   "cell_type": "markdown",
   "metadata": {},
   "source": [
    "## 2. K-Nearest Neighbour"
   ]
  },
  {
   "cell_type": "code",
   "execution_count": 64,
   "metadata": {},
   "outputs": [],
   "source": [
    "from sklearn.neighbors import KNeighborsClassifier"
   ]
  },
  {
   "cell_type": "code",
   "execution_count": 65,
   "metadata": {},
   "outputs": [
    {
     "data": {
      "text/plain": [
       "KNeighborsClassifier(algorithm='auto', leaf_size=30, metric='minkowski',\n",
       "                     metric_params=None, n_jobs=None, n_neighbors=3, p=2,\n",
       "                     weights='uniform')"
      ]
     },
     "execution_count": 65,
     "metadata": {},
     "output_type": "execute_result"
    }
   ],
   "source": [
    "kmodel = KNeighborsClassifier(n_neighbors=3)\n",
    "kmodel.fit(X_train,y_train)"
   ]
  },
  {
   "cell_type": "code",
   "execution_count": 66,
   "metadata": {},
   "outputs": [
    {
     "name": "stdout",
     "output_type": "stream",
     "text": [
      "Confusion Matrix\n",
      "[[ 3  0  0]\n",
      " [ 0 13  1]\n",
      " [ 0  0  8]]\n",
      "\n",
      "Model Score: 96.0 %\n"
     ]
    }
   ],
   "source": [
    "kpredictions = kmodel.predict(X_test)\n",
    "print(\"Confusion Matrix\")\n",
    "print(confusion_matrix(y_test,kpredictions))\n",
    "\n",
    "kscore = round((kmodel.score(X_test, y_test)*100),2)\n",
    "print (\"\\nModel Score:\",kscore,\"%\")"
   ]
  },
  {
   "cell_type": "markdown",
   "metadata": {},
   "source": [
    "## 3.Decision Tree"
   ]
  },
  {
   "cell_type": "code",
   "execution_count": 67,
   "metadata": {},
   "outputs": [],
   "source": [
    "from sklearn.tree import DecisionTreeClassifier"
   ]
  },
  {
   "cell_type": "code",
   "execution_count": 68,
   "metadata": {},
   "outputs": [
    {
     "data": {
      "text/plain": [
       "DecisionTreeClassifier(class_weight=None, criterion='gini', max_depth=None,\n",
       "                       max_features=None, max_leaf_nodes=None,\n",
       "                       min_impurity_decrease=0.0, min_impurity_split=None,\n",
       "                       min_samples_leaf=1, min_samples_split=2,\n",
       "                       min_weight_fraction_leaf=0.0, presort=False,\n",
       "                       random_state=None, splitter='best')"
      ]
     },
     "execution_count": 68,
     "metadata": {},
     "output_type": "execute_result"
    }
   ],
   "source": [
    "dmodel = DecisionTreeClassifier()\n",
    "dmodel.fit(X_train,y_train)"
   ]
  },
  {
   "cell_type": "code",
   "execution_count": 69,
   "metadata": {},
   "outputs": [
    {
     "name": "stdout",
     "output_type": "stream",
     "text": [
      "Confusion Matrix\n",
      "[[ 3  0  0]\n",
      " [ 0 13  1]\n",
      " [ 0  0  8]]\n",
      "\n",
      "Model Score: 96.0 %\n"
     ]
    }
   ],
   "source": [
    "dprediction = dmodel.predict(X_test)\n",
    "print(\"Confusion Matrix\")\n",
    "print(confusion_matrix(y_test,dprediction))\n",
    "\n",
    "dscore = round((dmodel.score(X_test, y_test)*100),2)\n",
    "print (\"\\nModel Score:\",dscore,\"%\")"
   ]
  },
  {
   "cell_type": "code",
   "execution_count": 70,
   "metadata": {},
   "outputs": [
    {
     "data": {
      "text/html": [
       "<div>\n",
       "<style scoped>\n",
       "    .dataframe tbody tr th:only-of-type {\n",
       "        vertical-align: middle;\n",
       "    }\n",
       "\n",
       "    .dataframe tbody tr th {\n",
       "        vertical-align: top;\n",
       "    }\n",
       "\n",
       "    .dataframe thead th {\n",
       "        text-align: right;\n",
       "    }\n",
       "</style>\n",
       "<table border=\"1\" class=\"dataframe\">\n",
       "  <thead>\n",
       "    <tr style=\"text-align: right;\">\n",
       "      <th></th>\n",
       "      <th>Algorithm</th>\n",
       "      <th>Precision</th>\n",
       "    </tr>\n",
       "  </thead>\n",
       "  <tbody>\n",
       "    <tr>\n",
       "      <th>1</th>\n",
       "      <td>Random Forest</td>\n",
       "      <td>96.0</td>\n",
       "    </tr>\n",
       "    <tr>\n",
       "      <th>2</th>\n",
       "      <td>K-Nearest Neighbour</td>\n",
       "      <td>96.0</td>\n",
       "    </tr>\n",
       "    <tr>\n",
       "      <th>3</th>\n",
       "      <td>Decision Tree</td>\n",
       "      <td>96.0</td>\n",
       "    </tr>\n",
       "  </tbody>\n",
       "</table>\n",
       "</div>"
      ],
      "text/plain": [
       "             Algorithm  Precision\n",
       "1        Random Forest       96.0\n",
       "2  K-Nearest Neighbour       96.0\n",
       "3        Decision Tree       96.0"
      ]
     },
     "execution_count": 70,
     "metadata": {},
     "output_type": "execute_result"
    }
   ],
   "source": [
    "data = [['Random Forest',rscore],['K-Nearest Neighbour',kscore],['Decision Tree',dscore]]\n",
    "final = pd.DataFrame(data,columns=['Algorithm','Precision'],index=[1,2,3])\n",
    "final"
   ]
  },
  {
   "cell_type": "markdown",
   "metadata": {},
   "source": [
    "------------------------------------------------------------------------------------------------------------------------------"
   ]
  }
 ],
 "metadata": {
  "kernelspec": {
   "display_name": "Python 3",
   "language": "python",
   "name": "python3"
  },
  "language_info": {
   "codemirror_mode": {
    "name": "ipython",
    "version": 3
   },
   "file_extension": ".py",
   "mimetype": "text/x-python",
   "name": "python",
   "nbconvert_exporter": "python",
   "pygments_lexer": "ipython3",
   "version": "3.7.3"
  }
 },
 "nbformat": 4,
 "nbformat_minor": 2
}
